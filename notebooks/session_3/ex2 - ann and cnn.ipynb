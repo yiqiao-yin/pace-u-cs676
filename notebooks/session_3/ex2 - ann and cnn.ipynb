{
  "nbformat": 4,
  "nbformat_minor": 0,
  "metadata": {
    "colab": {
      "provenance": [],
      "machine_shape": "hm"
    },
    "kernelspec": {
      "name": "python3",
      "display_name": "Python 3"
    },
    "language_info": {
      "name": "python"
    },
    "gpuClass": "standard",
    "accelerator": "GPU"
  },
  "cells": [
    {
      "cell_type": "markdown",
      "source": [
        "## Basic Neural Network Model\n"
      ],
      "metadata": {
        "id": "jyulNWua5xeD"
      }
    },
    {
      "cell_type": "markdown",
      "source": [
        "### Predict Housing Price\n",
        "\n",
        "The Boston Housing Dataset is a derived from information collected by the U.S. Census Service concerning housing in the area of Boston MA. The following describes the dataset columns:\n",
        "\n",
        "<p align='center'>\n",
        "  <img src='https://d1e00ek4ebabms.cloudfront.net/production/bc077356-7727-449a-8656-3e74b33fa65e.jpg' width=600></img>\n",
        "</p>\n",
        "\n",
        "- CRIM - per capita crime rate by town\n",
        "- ZN - proportion of residential land zoned for lots over 25,000 sq.ft.\n",
        "- INDUS - proportion of non-retail business acres per town.\n",
        "- CHAS - Charles River dummy variable (1 if tract bounds river; 0 otherwise)\n",
        "- NOX - nitric oxides concentration (parts per 10 million)\n",
        "- RM - average number of rooms per dwelling\n",
        "- AGE - proportion of owner-occupied units built prior to 1940\n",
        "- DIS - weighted distances to five Boston employment centres\n",
        "- RAD - index of accessibility to radial highways\n",
        "- TAX - full-value property-tax rate per \\$10,000\n",
        "- PTRATIO - pupil-teacher ratio by town\n",
        "- B - $1000(Bk - 0.63)^2$ where Bk is the proportion of blacks by town\n",
        "- LSTAT - \\% lower status of the population\n",
        "- MEDV - Median value of owner-occupied homes in \\$1000's\n",
        "\n",
        "Research Question: What is the price of a house given its information about the above features? In other words, can we build a model to learn from the features of the house to predict the housing price?"
      ],
      "metadata": {
        "id": "EZIBayY5iJuL"
      }
    },
    {
      "cell_type": "code",
      "source": [
        "# import\n",
        "import os\n",
        "import numpy as np\n",
        "import pandas as pd\n",
        "import matplotlib.pyplot as plt"
      ],
      "metadata": {
        "id": "8vUOOu2N6DFx"
      },
      "execution_count": 1,
      "outputs": []
    },
    {
      "cell_type": "code",
      "source": [
        "# get data\n",
        "train_path = '/content/sample_data/california_housing_train.csv'\n",
        "test_path = '/content/sample_data/california_housing_test.csv'\n",
        "train = pd.read_csv(train_path)\n",
        "test = pd.read_csv(test_path)"
      ],
      "metadata": {
        "id": "kSOIEDMe6X4U"
      },
      "execution_count": 2,
      "outputs": []
    },
    {
      "cell_type": "code",
      "source": [
        "# display shape\n",
        "train.shape, test.shape"
      ],
      "metadata": {
        "colab": {
          "base_uri": "https://localhost:8080/"
        },
        "id": "0QyywP8h6jMn",
        "outputId": "7b8b83ad-24d4-48ef-e40c-8763cd41e3fb"
      },
      "execution_count": 3,
      "outputs": [
        {
          "output_type": "execute_result",
          "data": {
            "text/plain": [
              "((17000, 9), (3000, 9))"
            ]
          },
          "metadata": {},
          "execution_count": 3
        }
      ]
    },
    {
      "cell_type": "code",
      "source": [
        "# head\n",
        "train.head(3)"
      ],
      "metadata": {
        "colab": {
          "base_uri": "https://localhost:8080/",
          "height": 143
        },
        "id": "j04ZzQWX6lL9",
        "outputId": "be574af0-2eed-41a9-84fb-d8e6fe237b9f"
      },
      "execution_count": 4,
      "outputs": [
        {
          "output_type": "execute_result",
          "data": {
            "text/plain": [
              "   longitude  latitude  housing_median_age  total_rooms  total_bedrooms  \\\n",
              "0    -114.31     34.19                15.0       5612.0          1283.0   \n",
              "1    -114.47     34.40                19.0       7650.0          1901.0   \n",
              "2    -114.56     33.69                17.0        720.0           174.0   \n",
              "\n",
              "   population  households  median_income  median_house_value  \n",
              "0      1015.0       472.0         1.4936             66900.0  \n",
              "1      1129.0       463.0         1.8200             80100.0  \n",
              "2       333.0       117.0         1.6509             85700.0  "
            ],
            "text/html": [
              "\n",
              "  <div id=\"df-02da5226-dfe9-4a57-9e9e-52ef904c868e\" class=\"colab-df-container\">\n",
              "    <div>\n",
              "<style scoped>\n",
              "    .dataframe tbody tr th:only-of-type {\n",
              "        vertical-align: middle;\n",
              "    }\n",
              "\n",
              "    .dataframe tbody tr th {\n",
              "        vertical-align: top;\n",
              "    }\n",
              "\n",
              "    .dataframe thead th {\n",
              "        text-align: right;\n",
              "    }\n",
              "</style>\n",
              "<table border=\"1\" class=\"dataframe\">\n",
              "  <thead>\n",
              "    <tr style=\"text-align: right;\">\n",
              "      <th></th>\n",
              "      <th>longitude</th>\n",
              "      <th>latitude</th>\n",
              "      <th>housing_median_age</th>\n",
              "      <th>total_rooms</th>\n",
              "      <th>total_bedrooms</th>\n",
              "      <th>population</th>\n",
              "      <th>households</th>\n",
              "      <th>median_income</th>\n",
              "      <th>median_house_value</th>\n",
              "    </tr>\n",
              "  </thead>\n",
              "  <tbody>\n",
              "    <tr>\n",
              "      <th>0</th>\n",
              "      <td>-114.31</td>\n",
              "      <td>34.19</td>\n",
              "      <td>15.0</td>\n",
              "      <td>5612.0</td>\n",
              "      <td>1283.0</td>\n",
              "      <td>1015.0</td>\n",
              "      <td>472.0</td>\n",
              "      <td>1.4936</td>\n",
              "      <td>66900.0</td>\n",
              "    </tr>\n",
              "    <tr>\n",
              "      <th>1</th>\n",
              "      <td>-114.47</td>\n",
              "      <td>34.40</td>\n",
              "      <td>19.0</td>\n",
              "      <td>7650.0</td>\n",
              "      <td>1901.0</td>\n",
              "      <td>1129.0</td>\n",
              "      <td>463.0</td>\n",
              "      <td>1.8200</td>\n",
              "      <td>80100.0</td>\n",
              "    </tr>\n",
              "    <tr>\n",
              "      <th>2</th>\n",
              "      <td>-114.56</td>\n",
              "      <td>33.69</td>\n",
              "      <td>17.0</td>\n",
              "      <td>720.0</td>\n",
              "      <td>174.0</td>\n",
              "      <td>333.0</td>\n",
              "      <td>117.0</td>\n",
              "      <td>1.6509</td>\n",
              "      <td>85700.0</td>\n",
              "    </tr>\n",
              "  </tbody>\n",
              "</table>\n",
              "</div>\n",
              "    <div class=\"colab-df-buttons\">\n",
              "\n",
              "  <div class=\"colab-df-container\">\n",
              "    <button class=\"colab-df-convert\" onclick=\"convertToInteractive('df-02da5226-dfe9-4a57-9e9e-52ef904c868e')\"\n",
              "            title=\"Convert this dataframe to an interactive table.\"\n",
              "            style=\"display:none;\">\n",
              "\n",
              "  <svg xmlns=\"http://www.w3.org/2000/svg\" height=\"24px\" viewBox=\"0 -960 960 960\">\n",
              "    <path d=\"M120-120v-720h720v720H120Zm60-500h600v-160H180v160Zm220 220h160v-160H400v160Zm0 220h160v-160H400v160ZM180-400h160v-160H180v160Zm440 0h160v-160H620v160ZM180-180h160v-160H180v160Zm440 0h160v-160H620v160Z\"/>\n",
              "  </svg>\n",
              "    </button>\n",
              "\n",
              "  <style>\n",
              "    .colab-df-container {\n",
              "      display:flex;\n",
              "      gap: 12px;\n",
              "    }\n",
              "\n",
              "    .colab-df-convert {\n",
              "      background-color: #E8F0FE;\n",
              "      border: none;\n",
              "      border-radius: 50%;\n",
              "      cursor: pointer;\n",
              "      display: none;\n",
              "      fill: #1967D2;\n",
              "      height: 32px;\n",
              "      padding: 0 0 0 0;\n",
              "      width: 32px;\n",
              "    }\n",
              "\n",
              "    .colab-df-convert:hover {\n",
              "      background-color: #E2EBFA;\n",
              "      box-shadow: 0px 1px 2px rgba(60, 64, 67, 0.3), 0px 1px 3px 1px rgba(60, 64, 67, 0.15);\n",
              "      fill: #174EA6;\n",
              "    }\n",
              "\n",
              "    .colab-df-buttons div {\n",
              "      margin-bottom: 4px;\n",
              "    }\n",
              "\n",
              "    [theme=dark] .colab-df-convert {\n",
              "      background-color: #3B4455;\n",
              "      fill: #D2E3FC;\n",
              "    }\n",
              "\n",
              "    [theme=dark] .colab-df-convert:hover {\n",
              "      background-color: #434B5C;\n",
              "      box-shadow: 0px 1px 3px 1px rgba(0, 0, 0, 0.15);\n",
              "      filter: drop-shadow(0px 1px 2px rgba(0, 0, 0, 0.3));\n",
              "      fill: #FFFFFF;\n",
              "    }\n",
              "  </style>\n",
              "\n",
              "    <script>\n",
              "      const buttonEl =\n",
              "        document.querySelector('#df-02da5226-dfe9-4a57-9e9e-52ef904c868e button.colab-df-convert');\n",
              "      buttonEl.style.display =\n",
              "        google.colab.kernel.accessAllowed ? 'block' : 'none';\n",
              "\n",
              "      async function convertToInteractive(key) {\n",
              "        const element = document.querySelector('#df-02da5226-dfe9-4a57-9e9e-52ef904c868e');\n",
              "        const dataTable =\n",
              "          await google.colab.kernel.invokeFunction('convertToInteractive',\n",
              "                                                    [key], {});\n",
              "        if (!dataTable) return;\n",
              "\n",
              "        const docLinkHtml = 'Like what you see? Visit the ' +\n",
              "          '<a target=\"_blank\" href=https://colab.research.google.com/notebooks/data_table.ipynb>data table notebook</a>'\n",
              "          + ' to learn more about interactive tables.';\n",
              "        element.innerHTML = '';\n",
              "        dataTable['output_type'] = 'display_data';\n",
              "        await google.colab.output.renderOutput(dataTable, element);\n",
              "        const docLink = document.createElement('div');\n",
              "        docLink.innerHTML = docLinkHtml;\n",
              "        element.appendChild(docLink);\n",
              "      }\n",
              "    </script>\n",
              "  </div>\n",
              "\n",
              "\n",
              "<div id=\"df-f0e154be-9d3b-4b21-bcd4-9dd19153739e\">\n",
              "  <button class=\"colab-df-quickchart\" onclick=\"quickchart('df-f0e154be-9d3b-4b21-bcd4-9dd19153739e')\"\n",
              "            title=\"Suggest charts\"\n",
              "            style=\"display:none;\">\n",
              "\n",
              "<svg xmlns=\"http://www.w3.org/2000/svg\" height=\"24px\"viewBox=\"0 0 24 24\"\n",
              "     width=\"24px\">\n",
              "    <g>\n",
              "        <path d=\"M19 3H5c-1.1 0-2 .9-2 2v14c0 1.1.9 2 2 2h14c1.1 0 2-.9 2-2V5c0-1.1-.9-2-2-2zM9 17H7v-7h2v7zm4 0h-2V7h2v10zm4 0h-2v-4h2v4z\"/>\n",
              "    </g>\n",
              "</svg>\n",
              "  </button>\n",
              "\n",
              "<style>\n",
              "  .colab-df-quickchart {\n",
              "      --bg-color: #E8F0FE;\n",
              "      --fill-color: #1967D2;\n",
              "      --hover-bg-color: #E2EBFA;\n",
              "      --hover-fill-color: #174EA6;\n",
              "      --disabled-fill-color: #AAA;\n",
              "      --disabled-bg-color: #DDD;\n",
              "  }\n",
              "\n",
              "  [theme=dark] .colab-df-quickchart {\n",
              "      --bg-color: #3B4455;\n",
              "      --fill-color: #D2E3FC;\n",
              "      --hover-bg-color: #434B5C;\n",
              "      --hover-fill-color: #FFFFFF;\n",
              "      --disabled-bg-color: #3B4455;\n",
              "      --disabled-fill-color: #666;\n",
              "  }\n",
              "\n",
              "  .colab-df-quickchart {\n",
              "    background-color: var(--bg-color);\n",
              "    border: none;\n",
              "    border-radius: 50%;\n",
              "    cursor: pointer;\n",
              "    display: none;\n",
              "    fill: var(--fill-color);\n",
              "    height: 32px;\n",
              "    padding: 0;\n",
              "    width: 32px;\n",
              "  }\n",
              "\n",
              "  .colab-df-quickchart:hover {\n",
              "    background-color: var(--hover-bg-color);\n",
              "    box-shadow: 0 1px 2px rgba(60, 64, 67, 0.3), 0 1px 3px 1px rgba(60, 64, 67, 0.15);\n",
              "    fill: var(--button-hover-fill-color);\n",
              "  }\n",
              "\n",
              "  .colab-df-quickchart-complete:disabled,\n",
              "  .colab-df-quickchart-complete:disabled:hover {\n",
              "    background-color: var(--disabled-bg-color);\n",
              "    fill: var(--disabled-fill-color);\n",
              "    box-shadow: none;\n",
              "  }\n",
              "\n",
              "  .colab-df-spinner {\n",
              "    border: 2px solid var(--fill-color);\n",
              "    border-color: transparent;\n",
              "    border-bottom-color: var(--fill-color);\n",
              "    animation:\n",
              "      spin 1s steps(1) infinite;\n",
              "  }\n",
              "\n",
              "  @keyframes spin {\n",
              "    0% {\n",
              "      border-color: transparent;\n",
              "      border-bottom-color: var(--fill-color);\n",
              "      border-left-color: var(--fill-color);\n",
              "    }\n",
              "    20% {\n",
              "      border-color: transparent;\n",
              "      border-left-color: var(--fill-color);\n",
              "      border-top-color: var(--fill-color);\n",
              "    }\n",
              "    30% {\n",
              "      border-color: transparent;\n",
              "      border-left-color: var(--fill-color);\n",
              "      border-top-color: var(--fill-color);\n",
              "      border-right-color: var(--fill-color);\n",
              "    }\n",
              "    40% {\n",
              "      border-color: transparent;\n",
              "      border-right-color: var(--fill-color);\n",
              "      border-top-color: var(--fill-color);\n",
              "    }\n",
              "    60% {\n",
              "      border-color: transparent;\n",
              "      border-right-color: var(--fill-color);\n",
              "    }\n",
              "    80% {\n",
              "      border-color: transparent;\n",
              "      border-right-color: var(--fill-color);\n",
              "      border-bottom-color: var(--fill-color);\n",
              "    }\n",
              "    90% {\n",
              "      border-color: transparent;\n",
              "      border-bottom-color: var(--fill-color);\n",
              "    }\n",
              "  }\n",
              "</style>\n",
              "\n",
              "  <script>\n",
              "    async function quickchart(key) {\n",
              "      const quickchartButtonEl =\n",
              "        document.querySelector('#' + key + ' button');\n",
              "      quickchartButtonEl.disabled = true;  // To prevent multiple clicks.\n",
              "      quickchartButtonEl.classList.add('colab-df-spinner');\n",
              "      try {\n",
              "        const charts = await google.colab.kernel.invokeFunction(\n",
              "            'suggestCharts', [key], {});\n",
              "      } catch (error) {\n",
              "        console.error('Error during call to suggestCharts:', error);\n",
              "      }\n",
              "      quickchartButtonEl.classList.remove('colab-df-spinner');\n",
              "      quickchartButtonEl.classList.add('colab-df-quickchart-complete');\n",
              "    }\n",
              "    (() => {\n",
              "      let quickchartButtonEl =\n",
              "        document.querySelector('#df-f0e154be-9d3b-4b21-bcd4-9dd19153739e button');\n",
              "      quickchartButtonEl.style.display =\n",
              "        google.colab.kernel.accessAllowed ? 'block' : 'none';\n",
              "    })();\n",
              "  </script>\n",
              "</div>\n",
              "\n",
              "    </div>\n",
              "  </div>\n"
            ],
            "application/vnd.google.colaboratory.intrinsic+json": {
              "type": "dataframe",
              "variable_name": "train",
              "summary": "{\n  \"name\": \"train\",\n  \"rows\": 17000,\n  \"fields\": [\n    {\n      \"column\": \"longitude\",\n      \"properties\": {\n        \"dtype\": \"number\",\n        \"std\": 2.005166408426173,\n        \"min\": -124.35,\n        \"max\": -114.31,\n        \"num_unique_values\": 827,\n        \"samples\": [\n          -117.56,\n          -123.32,\n          -118.26\n        ],\n        \"semantic_type\": \"\",\n        \"description\": \"\"\n      }\n    },\n    {\n      \"column\": \"latitude\",\n      \"properties\": {\n        \"dtype\": \"number\",\n        \"std\": 2.1373397946570734,\n        \"min\": 32.54,\n        \"max\": 41.95,\n        \"num_unique_values\": 840,\n        \"samples\": [\n          38.44,\n          40.79,\n          32.69\n        ],\n        \"semantic_type\": \"\",\n        \"description\": \"\"\n      }\n    },\n    {\n      \"column\": \"housing_median_age\",\n      \"properties\": {\n        \"dtype\": \"number\",\n        \"std\": 12.586936981660335,\n        \"min\": 1.0,\n        \"max\": 52.0,\n        \"num_unique_values\": 52,\n        \"samples\": [\n          23.0,\n          52.0,\n          47.0\n        ],\n        \"semantic_type\": \"\",\n        \"description\": \"\"\n      }\n    },\n    {\n      \"column\": \"total_rooms\",\n      \"properties\": {\n        \"dtype\": \"number\",\n        \"std\": 2179.947071452768,\n        \"min\": 2.0,\n        \"max\": 37937.0,\n        \"num_unique_values\": 5533,\n        \"samples\": [\n          3564.0,\n          6955.0,\n          5451.0\n        ],\n        \"semantic_type\": \"\",\n        \"description\": \"\"\n      }\n    },\n    {\n      \"column\": \"total_bedrooms\",\n      \"properties\": {\n        \"dtype\": \"number\",\n        \"std\": 421.49945157986514,\n        \"min\": 1.0,\n        \"max\": 6445.0,\n        \"num_unique_values\": 1848,\n        \"samples\": [\n          729.0,\n          719.0,\n          2075.0\n        ],\n        \"semantic_type\": \"\",\n        \"description\": \"\"\n      }\n    },\n    {\n      \"column\": \"population\",\n      \"properties\": {\n        \"dtype\": \"number\",\n        \"std\": 1147.852959159525,\n        \"min\": 3.0,\n        \"max\": 35682.0,\n        \"num_unique_values\": 3683,\n        \"samples\": [\n          249.0,\n          1735.0,\n          235.0\n        ],\n        \"semantic_type\": \"\",\n        \"description\": \"\"\n      }\n    },\n    {\n      \"column\": \"households\",\n      \"properties\": {\n        \"dtype\": \"number\",\n        \"std\": 384.52084085590013,\n        \"min\": 1.0,\n        \"max\": 6082.0,\n        \"num_unique_values\": 1740,\n        \"samples\": [\n          390.0,\n          1089.0,\n          1351.0\n        ],\n        \"semantic_type\": \"\",\n        \"description\": \"\"\n      }\n    },\n    {\n      \"column\": \"median_income\",\n      \"properties\": {\n        \"dtype\": \"number\",\n        \"std\": 1.908156518379093,\n        \"min\": 0.4999,\n        \"max\": 15.0001,\n        \"num_unique_values\": 11175,\n        \"samples\": [\n          7.2655,\n          5.6293,\n          4.2262\n        ],\n        \"semantic_type\": \"\",\n        \"description\": \"\"\n      }\n    },\n    {\n      \"column\": \"median_house_value\",\n      \"properties\": {\n        \"dtype\": \"number\",\n        \"std\": 115983.76438720913,\n        \"min\": 14999.0,\n        \"max\": 500001.0,\n        \"num_unique_values\": 3694,\n        \"samples\": [\n          162300.0,\n          346800.0,\n          116700.0\n        ],\n        \"semantic_type\": \"\",\n        \"description\": \"\"\n      }\n    }\n  ]\n}"
            }
          },
          "metadata": {},
          "execution_count": 4
        }
      ]
    },
    {
      "cell_type": "code",
      "source": [
        "# define X and y\n",
        "X_train = train.iloc[:, train.columns!='median_house_value']\n",
        "y_train = train['median_house_value']\n",
        "X_test = test.iloc[:, test.columns!='median_house_value']\n",
        "y_test = test['median_house_value']"
      ],
      "metadata": {
        "id": "A9RhiwlN6oC5"
      },
      "execution_count": 5,
      "outputs": []
    },
    {
      "cell_type": "code",
      "source": [
        "# display shape\n",
        "X_train.shape, y_train.shape, X_test.shape, y_test.shape"
      ],
      "metadata": {
        "colab": {
          "base_uri": "https://localhost:8080/"
        },
        "id": "LjU-ox3b68nF",
        "outputId": "e5e8e6ef-a52e-41d8-d13d-15ee51c81d19"
      },
      "execution_count": 6,
      "outputs": [
        {
          "output_type": "execute_result",
          "data": {
            "text/plain": [
              "((17000, 8), (17000,), (3000, 8), (3000,))"
            ]
          },
          "metadata": {},
          "execution_count": 6
        }
      ]
    },
    {
      "cell_type": "code",
      "source": [
        "# import\n",
        "import tensorflow as tf"
      ],
      "metadata": {
        "id": "k6jmn4q97Dva"
      },
      "execution_count": 7,
      "outputs": []
    },
    {
      "cell_type": "code",
      "source": [
        "# define a neural network model\n",
        "model = tf.keras.models.Sequential(name='this_model')\n",
        "model.add(tf.keras.layers.Dense(1, input_shape=[8]))\n",
        "model.summary()"
      ],
      "metadata": {
        "colab": {
          "base_uri": "https://localhost:8080/",
          "height": 221
        },
        "id": "AQE3z9mw7AmD",
        "outputId": "9ff8647f-cc99-4288-ddc1-fe1db8e2852f"
      },
      "execution_count": 8,
      "outputs": [
        {
          "output_type": "stream",
          "name": "stderr",
          "text": [
            "/usr/local/lib/python3.11/dist-packages/keras/src/layers/core/dense.py:87: UserWarning: Do not pass an `input_shape`/`input_dim` argument to a layer. When using Sequential models, prefer using an `Input(shape)` object as the first layer in the model instead.\n",
            "  super().__init__(activity_regularizer=activity_regularizer, **kwargs)\n"
          ]
        },
        {
          "output_type": "display_data",
          "data": {
            "text/plain": [
              "\u001b[1mModel: \"this_model\"\u001b[0m\n"
            ],
            "text/html": [
              "<pre style=\"white-space:pre;overflow-x:auto;line-height:normal;font-family:Menlo,'DejaVu Sans Mono',consolas,'Courier New',monospace\"><span style=\"font-weight: bold\">Model: \"this_model\"</span>\n",
              "</pre>\n"
            ]
          },
          "metadata": {}
        },
        {
          "output_type": "display_data",
          "data": {
            "text/plain": [
              "┏━━━━━━━━━━━━━━━━━━━━━━━━━━━━━━━━━━━━━━┳━━━━━━━━━━━━━━━━━━━━━━━━━━━━━┳━━━━━━━━━━━━━━━━━┓\n",
              "┃\u001b[1m \u001b[0m\u001b[1mLayer (type)                        \u001b[0m\u001b[1m \u001b[0m┃\u001b[1m \u001b[0m\u001b[1mOutput Shape               \u001b[0m\u001b[1m \u001b[0m┃\u001b[1m \u001b[0m\u001b[1m        Param #\u001b[0m\u001b[1m \u001b[0m┃\n",
              "┡━━━━━━━━━━━━━━━━━━━━━━━━━━━━━━━━━━━━━━╇━━━━━━━━━━━━━━━━━━━━━━━━━━━━━╇━━━━━━━━━━━━━━━━━┩\n",
              "│ dense (\u001b[38;5;33mDense\u001b[0m)                        │ (\u001b[38;5;45mNone\u001b[0m, \u001b[38;5;34m1\u001b[0m)                   │               \u001b[38;5;34m9\u001b[0m │\n",
              "└──────────────────────────────────────┴─────────────────────────────┴─────────────────┘\n"
            ],
            "text/html": [
              "<pre style=\"white-space:pre;overflow-x:auto;line-height:normal;font-family:Menlo,'DejaVu Sans Mono',consolas,'Courier New',monospace\">┏━━━━━━━━━━━━━━━━━━━━━━━━━━━━━━━━━━━━━━┳━━━━━━━━━━━━━━━━━━━━━━━━━━━━━┳━━━━━━━━━━━━━━━━━┓\n",
              "┃<span style=\"font-weight: bold\"> Layer (type)                         </span>┃<span style=\"font-weight: bold\"> Output Shape                </span>┃<span style=\"font-weight: bold\">         Param # </span>┃\n",
              "┡━━━━━━━━━━━━━━━━━━━━━━━━━━━━━━━━━━━━━━╇━━━━━━━━━━━━━━━━━━━━━━━━━━━━━╇━━━━━━━━━━━━━━━━━┩\n",
              "│ dense (<span style=\"color: #0087ff; text-decoration-color: #0087ff\">Dense</span>)                        │ (<span style=\"color: #00d7ff; text-decoration-color: #00d7ff\">None</span>, <span style=\"color: #00af00; text-decoration-color: #00af00\">1</span>)                   │               <span style=\"color: #00af00; text-decoration-color: #00af00\">9</span> │\n",
              "└──────────────────────────────────────┴─────────────────────────────┴─────────────────┘\n",
              "</pre>\n"
            ]
          },
          "metadata": {}
        },
        {
          "output_type": "display_data",
          "data": {
            "text/plain": [
              "\u001b[1m Total params: \u001b[0m\u001b[38;5;34m9\u001b[0m (36.00 B)\n"
            ],
            "text/html": [
              "<pre style=\"white-space:pre;overflow-x:auto;line-height:normal;font-family:Menlo,'DejaVu Sans Mono',consolas,'Courier New',monospace\"><span style=\"font-weight: bold\"> Total params: </span><span style=\"color: #00af00; text-decoration-color: #00af00\">9</span> (36.00 B)\n",
              "</pre>\n"
            ]
          },
          "metadata": {}
        },
        {
          "output_type": "display_data",
          "data": {
            "text/plain": [
              "\u001b[1m Trainable params: \u001b[0m\u001b[38;5;34m9\u001b[0m (36.00 B)\n"
            ],
            "text/html": [
              "<pre style=\"white-space:pre;overflow-x:auto;line-height:normal;font-family:Menlo,'DejaVu Sans Mono',consolas,'Courier New',monospace\"><span style=\"font-weight: bold\"> Trainable params: </span><span style=\"color: #00af00; text-decoration-color: #00af00\">9</span> (36.00 B)\n",
              "</pre>\n"
            ]
          },
          "metadata": {}
        },
        {
          "output_type": "display_data",
          "data": {
            "text/plain": [
              "\u001b[1m Non-trainable params: \u001b[0m\u001b[38;5;34m0\u001b[0m (0.00 B)\n"
            ],
            "text/html": [
              "<pre style=\"white-space:pre;overflow-x:auto;line-height:normal;font-family:Menlo,'DejaVu Sans Mono',consolas,'Courier New',monospace\"><span style=\"font-weight: bold\"> Non-trainable params: </span><span style=\"color: #00af00; text-decoration-color: #00af00\">0</span> (0.00 B)\n",
              "</pre>\n"
            ]
          },
          "metadata": {}
        }
      ]
    },
    {
      "cell_type": "code",
      "source": [
        "# compile\n",
        "model.compile(optimizer='rmsprop', loss='mae')"
      ],
      "metadata": {
        "id": "vUQupXue7eyA"
      },
      "execution_count": 9,
      "outputs": []
    },
    {
      "cell_type": "code",
      "source": [
        "# fit\n",
        "model.fit(X_train, y_train, validation_split=0.2, epochs=10)"
      ],
      "metadata": {
        "colab": {
          "base_uri": "https://localhost:8080/"
        },
        "id": "LnmTvwJZ7k4F",
        "outputId": "bf935146-9012-4de2-ff14-3b47abbe45e7"
      },
      "execution_count": 10,
      "outputs": [
        {
          "output_type": "stream",
          "name": "stdout",
          "text": [
            "Epoch 1/10\n",
            "\u001b[1m425/425\u001b[0m \u001b[32m━━━━━━━━━━━━━━━━━━━━\u001b[0m\u001b[37m\u001b[0m \u001b[1m2s\u001b[0m 3ms/step - loss: 200029.6562 - val_loss: 245988.2031\n",
            "Epoch 2/10\n",
            "\u001b[1m425/425\u001b[0m \u001b[32m━━━━━━━━━━━━━━━━━━━━\u001b[0m\u001b[37m\u001b[0m \u001b[1m1s\u001b[0m 2ms/step - loss: 195107.2188 - val_loss: 243934.6250\n",
            "Epoch 3/10\n",
            "\u001b[1m425/425\u001b[0m \u001b[32m━━━━━━━━━━━━━━━━━━━━\u001b[0m\u001b[37m\u001b[0m \u001b[1m1s\u001b[0m 2ms/step - loss: 193606.6406 - val_loss: 241883.2031\n",
            "Epoch 4/10\n",
            "\u001b[1m425/425\u001b[0m \u001b[32m━━━━━━━━━━━━━━━━━━━━\u001b[0m\u001b[37m\u001b[0m \u001b[1m1s\u001b[0m 2ms/step - loss: 192121.5000 - val_loss: 239835.0312\n",
            "Epoch 5/10\n",
            "\u001b[1m425/425\u001b[0m \u001b[32m━━━━━━━━━━━━━━━━━━━━\u001b[0m\u001b[37m\u001b[0m \u001b[1m1s\u001b[0m 2ms/step - loss: 190406.1094 - val_loss: 237783.3594\n",
            "Epoch 6/10\n",
            "\u001b[1m425/425\u001b[0m \u001b[32m━━━━━━━━━━━━━━━━━━━━\u001b[0m\u001b[37m\u001b[0m \u001b[1m1s\u001b[0m 2ms/step - loss: 185681.1094 - val_loss: 235733.1406\n",
            "Epoch 7/10\n",
            "\u001b[1m425/425\u001b[0m \u001b[32m━━━━━━━━━━━━━━━━━━━━\u001b[0m\u001b[37m\u001b[0m \u001b[1m1s\u001b[0m 2ms/step - loss: 184951.2031 - val_loss: 233688.1094\n",
            "Epoch 8/10\n",
            "\u001b[1m425/425\u001b[0m \u001b[32m━━━━━━━━━━━━━━━━━━━━\u001b[0m\u001b[37m\u001b[0m \u001b[1m1s\u001b[0m 2ms/step - loss: 181475.7969 - val_loss: 231636.0781\n",
            "Epoch 9/10\n",
            "\u001b[1m425/425\u001b[0m \u001b[32m━━━━━━━━━━━━━━━━━━━━\u001b[0m\u001b[37m\u001b[0m \u001b[1m1s\u001b[0m 2ms/step - loss: 181363.7031 - val_loss: 229586.0000\n",
            "Epoch 10/10\n",
            "\u001b[1m425/425\u001b[0m \u001b[32m━━━━━━━━━━━━━━━━━━━━\u001b[0m\u001b[37m\u001b[0m \u001b[1m1s\u001b[0m 2ms/step - loss: 178582.3125 - val_loss: 227539.2500\n"
          ]
        },
        {
          "output_type": "execute_result",
          "data": {
            "text/plain": [
              "<keras.src.callbacks.history.History at 0x7dd3bc587510>"
            ]
          },
          "metadata": {},
          "execution_count": 10
        }
      ]
    },
    {
      "cell_type": "code",
      "source": [
        "# save\n",
        "model.save('tmp_model_yin.h5')"
      ],
      "metadata": {
        "id": "Cg4uS7969DbP"
      },
      "execution_count": null,
      "outputs": []
    },
    {
      "cell_type": "markdown",
      "source": [
        "Training done."
      ],
      "metadata": {
        "id": "D7iuO5kg8-1G"
      }
    },
    {
      "cell_type": "code",
      "source": [
        "# predict on test set\n",
        "y_test_pred_ = model.predict(X_test)\n",
        "len(y_test_pred_), len(y_test)"
      ],
      "metadata": {
        "colab": {
          "base_uri": "https://localhost:8080/"
        },
        "id": "0Oe_38e27udR",
        "outputId": "0b79446e-9adc-4b20-d996-ada7672cba3c"
      },
      "execution_count": 11,
      "outputs": [
        {
          "output_type": "stream",
          "name": "stdout",
          "text": [
            "\u001b[1m94/94\u001b[0m \u001b[32m━━━━━━━━━━━━━━━━━━━━\u001b[0m\u001b[37m\u001b[0m \u001b[1m0s\u001b[0m 2ms/step\n"
          ]
        },
        {
          "output_type": "execute_result",
          "data": {
            "text/plain": [
              "(3000, 3000)"
            ]
          },
          "metadata": {},
          "execution_count": 11
        }
      ]
    },
    {
      "cell_type": "code",
      "source": [
        "# visualize\n",
        "plt.scatter(y_test_pred_, y_test)"
      ],
      "metadata": {
        "colab": {
          "base_uri": "https://localhost:8080/",
          "height": 448
        },
        "id": "QyEtNe_p7ypr",
        "outputId": "d9add261-825c-4cf3-b717-a6e806fc07bc"
      },
      "execution_count": 12,
      "outputs": [
        {
          "output_type": "execute_result",
          "data": {
            "text/plain": [
              "<matplotlib.collections.PathCollection at 0x7dd3a7938890>"
            ]
          },
          "metadata": {},
          "execution_count": 12
        },
        {
          "output_type": "display_data",
          "data": {
            "text/plain": [
              "<Figure size 640x480 with 1 Axes>"
            ],
            "image/png": "[encoded data removed]"
          },
          "metadata": {}
        }
      ]
    },
    {
      "cell_type": "code",
      "source": [
        "# how accurate?\n",
        "# step 1: take the difference\n",
        "y_test_pred_.reshape((-1)) - np.asarray(y_test)"
      ],
      "metadata": {
        "colab": {
          "base_uri": "https://localhost:8080/"
        },
        "id": "kT3iPlHz8LfM",
        "outputId": "a1e1e9f6-ead0-4e0a-9e73-6b45760c87f2"
      },
      "execution_count": null,
      "outputs": [
        {
          "output_type": "execute_result",
          "data": {
            "text/plain": [
              "array([-317300.703125  , -164122.49023438, -245554.51757812, ...,\n",
              "        -53108.62011719, -160870.86865234, -486977.84472656])"
            ]
          },
          "metadata": {},
          "execution_count": 13
        }
      ]
    },
    {
      "cell_type": "code",
      "source": [
        "# step 2: take the absolute value of the difference\n",
        "np.abs(y_test_pred_.reshape((-1)) - np.asarray(y_test))"
      ],
      "metadata": {
        "colab": {
          "base_uri": "https://localhost:8080/"
        },
        "id": "I3rTmsEF8cK0",
        "outputId": "3eb6ab32-c55d-476f-ad30-8506192dfa67"
      },
      "execution_count": null,
      "outputs": [
        {
          "output_type": "execute_result",
          "data": {
            "text/plain": [
              "array([317300.703125  , 164122.49023438, 245554.51757812, ...,\n",
              "        53108.62011719, 160870.86865234, 486977.84472656])"
            ]
          },
          "metadata": {},
          "execution_count": 14
        }
      ]
    },
    {
      "cell_type": "code",
      "source": [
        "# sttep 3: take the average of the absolute difference\n",
        "np.mean(np.abs(y_test_pred_.reshape((-1)) - np.asarray(y_test)))"
      ],
      "metadata": {
        "colab": {
          "base_uri": "https://localhost:8080/"
        },
        "id": "l3hJcq8g8g8N",
        "outputId": "c2198269-90fc-4e5d-e680-b4c2996ad2a1"
      },
      "execution_count": null,
      "outputs": [
        {
          "output_type": "execute_result",
          "data": {
            "text/plain": [
              "185255.00255202228"
            ]
          },
          "metadata": {},
          "execution_count": 15
        }
      ]
    },
    {
      "cell_type": "markdown",
      "source": [
        "Question:\n",
        "- How do you interpret this number?\n",
        "- Why can't we compute accuracy but we have to use errors to measure how \"accurate\" our model is?"
      ],
      "metadata": {
        "id": "BdKC6MSM8lbw"
      }
    },
    {
      "cell_type": "markdown",
      "source": [
        "# MNIST Data\n",
        "\n",
        "According to Yann LeCun on this [site](http://yann.lecun.com/exdb/mnist/#:~:text=It%20is%20a%20good%20database,efforts%20on%20preprocessing%20and%20formatting.), the MNIST database of handwritten digits, available from this page, has a training set of 60,000 examples, and a test set of 10,000 examples. It is a subset of a larger set available from NIST. The digits have been size-normalized and centered in a fixed-size image.\n",
        "\n",
        "It is a good database for people who want to try learning techniques and pattern recognition methods on real-world data while spending minimal efforts on preprocessing and formatting.\n",
        "\n",
        "<p align=\"center\">\n",
        "    <img src=\"https://github.com/AviatorMoser/keras-mnist-tutorial/blob/master/mnist.png?raw=1\"></img>\n",
        "</p>\n",
        "\n",
        "## Research Question\n",
        "\n",
        "Can AI recognize pictures?\n",
        "\n",
        "## Agenda\n",
        "\n",
        "This is the standrad image data for developing neural network models and convolutional neural network models.\n",
        "\n",
        "- Neural Networks (1st meeting)\n",
        "- Convolutional Neural Networks (2nd meeting)\n",
        "\n",
        "One you have the basic knowledge, there two tasks:\n",
        "- First, you build a model to make good predictions on MNIST dataset\n",
        "- Next, you will get a new data set that is similar and you will build advanced models to make good predictions on it. Plan: We use the MNIST Fashion dataset.\n",
        "\n",
        "Goal: To develop state-of-the-art CNN models.\n",
        "\n",
        "## Notes\n",
        "\n",
        "Most of the notes are taken using markdown area. To learn more diverse editting techniques for you to take quick notes using markdown, please click [here](https://colab.research.google.com/notebooks/markdown_guide.ipynb)."
      ],
      "metadata": {
        "id": "ZgxIJ7VDkatT"
      }
    },
    {
      "cell_type": "markdown",
      "source": [
        "An interesting visualization is here:\n",
        "\n",
        "<p align='center'><img src=\"https://media.licdn.com/dms/image/C4D12AQFKRQOp_aXz0g/article-cover_image-shrink_600_2000/0/1577211633664?e=2147483647&v=beta&t=pZ5TdXalXICIqPXTDBX6NP-CYlGS3wE2Kn6y1XiYjHI\"></img></p>\n",
        "\n",
        "Given a picture, we can look at the pixel values. These pixel values provide information of the content/object in the image. These values are propagated into a network of neurons that are connected with lines (weights or also known as parameters) to be concluded to a final labeled category. The network architecture including width and length is completely dependent on the scientists and the data."
      ],
      "metadata": {
        "id": "tAPBhtVm72Ep"
      }
    },
    {
      "cell_type": "markdown",
      "source": [
        "# Artificial Neural Networks"
      ],
      "metadata": {
        "id": "VV3Qwh9lEiAp"
      }
    },
    {
      "cell_type": "markdown",
      "source": [
        "## Load Data"
      ],
      "metadata": {
        "id": "Rcuw1nh5jWmO"
      }
    },
    {
      "cell_type": "code",
      "source": [
        "# import library\n",
        "import tensorflow as tf"
      ],
      "metadata": {
        "id": "HqWLoP6nlSDP"
      },
      "execution_count": 13,
      "outputs": []
    },
    {
      "cell_type": "code",
      "source": [
        "# use tf API to get data\n",
        "mnist = tf.keras.datasets.mnist\n",
        "(training_images, training_labels), (test_images, test_labels) = mnist.load_data()\n",
        "print(training_images.shape)\n",
        "print(training_images[0].shape)"
      ],
      "metadata": {
        "id": "_rKryrdplThI",
        "colab": {
          "base_uri": "https://localhost:8080/"
        },
        "outputId": "5644217a-0f29-4b4a-e0cc-3491fd3f88cf"
      },
      "execution_count": 14,
      "outputs": [
        {
          "output_type": "stream",
          "name": "stdout",
          "text": [
            "Downloading data from https://storage.googleapis.com/tensorflow/tf-keras-datasets/mnist.npz\n",
            "\u001b[1m11490434/11490434\u001b[0m \u001b[32m━━━━━━━━━━━━━━━━━━━━\u001b[0m\u001b[37m\u001b[0m \u001b[1m2s\u001b[0m 0us/step\n",
            "(60000, 28, 28)\n",
            "(28, 28)\n"
          ]
        }
      ]
    },
    {
      "cell_type": "code",
      "source": [
        "# display dimension\n",
        "training_images.shape, training_labels.shape, test_images.shape, test_labels.shape"
      ],
      "metadata": {
        "colab": {
          "base_uri": "https://localhost:8080/"
        },
        "id": "8_sHd0E_t701",
        "outputId": "b0f36c91-6c04-4761-c72a-b952151ececd"
      },
      "execution_count": 16,
      "outputs": [
        {
          "output_type": "execute_result",
          "data": {
            "text/plain": [
              "((60000, 28, 28), (60000,), (10000, 28, 28), (10000,))"
            ]
          },
          "metadata": {},
          "execution_count": 16
        }
      ]
    },
    {
      "cell_type": "markdown",
      "source": [
        "### Save Using Pickle\n",
        "\n",
        "Sometimes the data you loaded is extremely large in sizes so we use pickle file to dump your data inside. This is to prevent that you lose the memory and record. The way to do this is whenever you run a chunk of cell with large memory you want to make sure have a pickle file ready to dump your data inside."
      ],
      "metadata": {
        "id": "JYncHvoPpUp_"
      }
    },
    {
      "cell_type": "code",
      "source": [
        "# import\n",
        "import os\n",
        "import pickle"
      ],
      "metadata": {
        "id": "8u_UMgRZpi4H"
      },
      "execution_count": null,
      "outputs": []
    },
    {
      "cell_type": "code",
      "source": [
        "# list directory\n",
        "os.listdir()"
      ],
      "metadata": {
        "colab": {
          "base_uri": "https://localhost:8080/"
        },
        "id": "Jf8ZZukupnOn",
        "outputId": "c658e25c-1e7b-4910-dbaf-dd39902ffcc2"
      },
      "execution_count": null,
      "outputs": [
        {
          "output_type": "execute_result",
          "data": {
            "text/plain": [
              "['.config', 'sample_data']"
            ]
          },
          "metadata": {},
          "execution_count": 5
        }
      ]
    },
    {
      "cell_type": "code",
      "source": [
        "# dump: this means save the desired file into a pickle file\n",
        "# note: a pickle file is a file ends with .pkl format\n",
        "# b = (0, 1)\n",
        "a = (training_images, training_labels), (test_images, test_labels)\n",
        "with open('mnist_data.pkl', 'wb') as handle:\n",
        "    pickle.dump(a, handle, protocol=pickle.HIGHEST_PROTOCOL)"
      ],
      "metadata": {
        "id": "aXLSlnL-plEB"
      },
      "execution_count": null,
      "outputs": []
    },
    {
      "cell_type": "code",
      "source": [
        "# check if it exists in the current directory\n",
        "os.listdir()"
      ],
      "metadata": {
        "colab": {
          "base_uri": "https://localhost:8080/"
        },
        "id": "el3SiQwoqACF",
        "outputId": "7398068f-763e-4eca-c5fa-dff61be3dbac"
      },
      "execution_count": null,
      "outputs": [
        {
          "output_type": "execute_result",
          "data": {
            "text/plain": [
              "['.config', 'mnist_data.pkl', 'sample_data']"
            ]
          },
          "metadata": {},
          "execution_count": 8
        }
      ]
    },
    {
      "cell_type": "code",
      "source": [
        "# load: this means start loading the desired file from the pickle file\n",
        "# note: this means that you do a with-open clause, and grab whatever\n",
        "#       inside of the .pkl file and defined it as a new object\n",
        "#       please make sure the name and the directory are correct\n",
        "with open('mnist_data.pkl', 'rb') as handle:\n",
        "    b = pickle.load(handle)\n",
        "\n",
        "# preview\n",
        "type(b), len(b)"
      ],
      "metadata": {
        "colab": {
          "base_uri": "https://localhost:8080/"
        },
        "id": "SvEpbvb5p22H",
        "outputId": "ea6c6781-c9c1-436b-bafa-fca5d7e3a5e1"
      },
      "execution_count": null,
      "outputs": [
        {
          "output_type": "execute_result",
          "data": {
            "text/plain": [
              "(tuple, 2)"
            ]
          },
          "metadata": {},
          "execution_count": 11
        }
      ]
    },
    {
      "cell_type": "code",
      "source": [
        "# what is b?\n",
        "print(b[0][0].shape, b[0][1].shape, b[1][0].shape, b[1][1].shape)"
      ],
      "metadata": {
        "colab": {
          "base_uri": "https://localhost:8080/"
        },
        "id": "Us3wRy54qWR6",
        "outputId": "6dcbbae7-7f77-4ae6-a5c6-af02196726db"
      },
      "execution_count": null,
      "outputs": [
        {
          "output_type": "stream",
          "name": "stdout",
          "text": [
            "(60000, 28, 28) (60000,) (10000, 28, 28) (10000,)\n"
          ]
        }
      ]
    },
    {
      "cell_type": "markdown",
      "source": [
        "The dimension says 60,000 by 28 by 28. This means the dataset has 60,000 images. Each image has 28 rows and 28 columns of pixels."
      ],
      "metadata": {
        "id": "bfq_Gs8gmFem"
      }
    },
    {
      "cell_type": "code",
      "source": [
        "# library\n",
        "import matplotlib.pyplot as plt"
      ],
      "metadata": {
        "id": "T2lZxDY7mKbs"
      },
      "execution_count": null,
      "outputs": []
    },
    {
      "cell_type": "code",
      "source": [
        "# plot one sample\n",
        "plt.imshow(training_images[0])\n",
        "plt.title('title: this is digit ' + str(training_labels[0]))\n",
        "plt.colorbar()"
      ],
      "metadata": {
        "colab": {
          "base_uri": "https://localhost:8080/",
          "height": 469
        },
        "id": "HOtoxmiGmPwg",
        "outputId": "0ee87037-5498-4945-9ab1-23d1769f7e68"
      },
      "execution_count": null,
      "outputs": [
        {
          "output_type": "execute_result",
          "data": {
            "text/plain": [
              "<matplotlib.colorbar.Colorbar at 0x781a1aabe380>"
            ]
          },
          "metadata": {},
          "execution_count": 5
        },
        {
          "output_type": "display_data",
          "data": {
            "text/plain": [
              "<Figure size 640x480 with 2 Axes>"
            ],
            "image/png": "[encoded data removed]"
          },
          "metadata": {}
        }
      ]
    },
    {
      "cell_type": "code",
      "source": [
        "# library\n",
        "import numpy as np"
      ],
      "metadata": {
        "id": "bhTfDKGmrAAv"
      },
      "execution_count": null,
      "outputs": []
    },
    {
      "cell_type": "code",
      "source": [
        "# unique digits\n",
        "np.unique(training_labels)"
      ],
      "metadata": {
        "colab": {
          "base_uri": "https://localhost:8080/"
        },
        "id": "YlMsNHasq4fd",
        "outputId": "b7f7eb67-9cbe-48bf-be9f-a6127eb41d92"
      },
      "execution_count": null,
      "outputs": [
        {
          "output_type": "execute_result",
          "data": {
            "text/plain": [
              "array([0, 1, 2, 3, 4, 5, 6, 7, 8, 9], dtype=uint8)"
            ]
          },
          "metadata": {},
          "execution_count": 7
        }
      ]
    },
    {
      "cell_type": "code",
      "source": [
        "# display shape\n",
        "training_labels.shape"
      ],
      "metadata": {
        "colab": {
          "base_uri": "https://localhost:8080/"
        },
        "id": "GPupey3-uwYz",
        "outputId": "9118bcf1-f5c1-4c3c-b9b0-fec4c8091df6"
      },
      "execution_count": null,
      "outputs": [
        {
          "output_type": "execute_result",
          "data": {
            "text/plain": [
              "(60000,)"
            ]
          },
          "metadata": {},
          "execution_count": 8
        }
      ]
    },
    {
      "cell_type": "markdown",
      "source": [
        "### One hot encode\n",
        "\n",
        "We need to use *to_categorical* function to do one-hot encode. The operation of one-hot encode will check each unique level of the data and create a new binary vector for that level.\n",
        "\n",
        "For example, the vector below has 3 levels: 1, 3, 4. Hence, for each level (for each of the value 1, 3, 4), there will be a new vector created that only takes values 1 or 0.\n",
        "\n",
        "$$\n",
        "\\begin{bmatrix}\n",
        "1 \\\\\n",
        "3 \\\\\n",
        "1 \\\\\n",
        "4 \\\\\n",
        "\\end{bmatrix}\n",
        "\\rightarrow_\\text{one hot}\n",
        "\\begin{bmatrix}\n",
        "1 & 0 & 0\\\\\n",
        "0 & 1 & 0\\\\\n",
        "1 & 0 & 0\\\\\n",
        "0 & 0 & 1\\\\\n",
        "\\end{bmatrix}\n",
        "$$\n",
        "\n",
        "Source is [here](https://www.tensorflow.org/api_docs/python/tf/keras/utils/to_categorical)."
      ],
      "metadata": {
        "id": "sESMsDDYu-p0"
      }
    },
    {
      "cell_type": "code",
      "source": [
        "# unique classes\n",
        "np.unique(training_labels), len(np.unique(training_labels))"
      ],
      "metadata": {
        "colab": {
          "base_uri": "https://localhost:8080/"
        },
        "id": "PqwkDpjRGUgh",
        "outputId": "4437ac81-cc85-4be9-a3fb-6bcde3e6e28d"
      },
      "execution_count": null,
      "outputs": [
        {
          "output_type": "execute_result",
          "data": {
            "text/plain": [
              "(array([0, 1, 2, 3, 4, 5, 6, 7, 8, 9], dtype=uint8), 10)"
            ]
          },
          "metadata": {},
          "execution_count": 18
        }
      ]
    },
    {
      "cell_type": "code",
      "source": [
        "# one hot encode\n",
        "training_labels_one_hot_encoded = tf.keras.utils.to_categorical(training_labels, num_classes=10)\n",
        "test_labels_one_hot_encoded = tf.keras.utils.to_categorical(test_labels, num_classes=10)"
      ],
      "metadata": {
        "id": "_FwaQ3IKu98U"
      },
      "execution_count": null,
      "outputs": []
    },
    {
      "cell_type": "code",
      "source": [
        "# display shape\n",
        "print(training_labels_one_hot_encoded.shape)\n",
        "print(test_labels_one_hot_encoded.shape)"
      ],
      "metadata": {
        "colab": {
          "base_uri": "https://localhost:8080/"
        },
        "id": "aTpXkpmJ9eEI",
        "outputId": "dc49c5fd-9852-4e1d-f0d3-215945d4e636"
      },
      "execution_count": null,
      "outputs": [
        {
          "output_type": "stream",
          "name": "stdout",
          "text": [
            "(60000, 10)\n",
            "(10000, 10)\n"
          ]
        }
      ]
    },
    {
      "cell_type": "markdown",
      "source": [
        "This means there are 10 classes."
      ],
      "metadata": {
        "id": "5NqgiOyFrCW8"
      }
    },
    {
      "cell_type": "markdown",
      "source": [
        "## Process Data\n",
        "\n",
        "We want the data to be rescaled to between 0 and 1. We know that the pixel values can range from 0 to 255. To do this, we divide all pixels by 255.\n",
        "\n",
        "The purpose is to avoid the error blowing up."
      ],
      "metadata": {
        "id": "4UMB48rcnEaA"
      }
    },
    {
      "cell_type": "code",
      "source": [
        "# check max and min\n",
        "np.max(training_images), np.min(training_images)"
      ],
      "metadata": {
        "colab": {
          "base_uri": "https://localhost:8080/"
        },
        "id": "u4acGxsf7JNZ",
        "outputId": "0b04696d-f9c9-4fbd-8957-676c66ef8bc8"
      },
      "execution_count": null,
      "outputs": [
        {
          "output_type": "execute_result",
          "data": {
            "text/plain": [
              "(255, 0)"
            ]
          },
          "metadata": {},
          "execution_count": 11
        }
      ]
    },
    {
      "cell_type": "code",
      "source": [
        "(255-100)*28*28"
      ],
      "metadata": {
        "colab": {
          "base_uri": "https://localhost:8080/"
        },
        "id": "-y9tyArRHAL4",
        "outputId": "607995ff-ce2d-4a25-b89d-11c3fe6cc039"
      },
      "execution_count": null,
      "outputs": [
        {
          "output_type": "execute_result",
          "data": {
            "text/plain": [
              "121520"
            ]
          },
          "metadata": {},
          "execution_count": 22
        }
      ]
    },
    {
      "cell_type": "code",
      "source": [
        "# rescale\n",
        "training_images = training_images / 255\n",
        "test_images = test_images / 255"
      ],
      "metadata": {
        "id": "I_Tn8lHnnoY4"
      },
      "execution_count": null,
      "outputs": []
    },
    {
      "cell_type": "code",
      "source": [
        "# check max and min\n",
        "np.max(training_images), np.min(training_images)"
      ],
      "metadata": {
        "colab": {
          "base_uri": "https://localhost:8080/"
        },
        "id": "FmsRRLuK7Npa",
        "outputId": "ee4df516-3d15-4e7f-8664-389df2033696"
      },
      "execution_count": null,
      "outputs": [
        {
          "output_type": "execute_result",
          "data": {
            "text/plain": [
              "(1.0, 0.0)"
            ]
          },
          "metadata": {},
          "execution_count": 24
        }
      ]
    },
    {
      "cell_type": "markdown",
      "source": [
        "## Activation Functions\n",
        "\n",
        "An Activation Function decides whether a neuron should be activated or not. This means that it will decide whether the neuron's input to the network is important or not in the process of prediction using simpler mathematical operations.\n",
        "\n",
        "<p align='center'>\n",
        "    <img src=\"https://miro.medium.com/max/1400/1*p_hyqAtyI8pbt2kEl6siOQ.png\" width=900></img>\n",
        "</p>\n",
        "\n",
        "Why use activation function? It is because we need to have non-linear component in each neuron."
      ],
      "metadata": {
        "id": "aZa66Gqxpd6e"
      }
    },
    {
      "cell_type": "markdown",
      "source": [
        "## Softmax Function\n",
        "\n",
        "The softmax function is used as the activation function in the output layer of neural network models that predict a multinomial probability distribution. That is, softmax is used as the activation function for multi-class classification problems where class membership is required on more than two class labels.\n",
        "\n",
        "<p align='center'>\n",
        "    <img src=\"https://miro.medium.com/max/805/1*ReYpdIZ3ZSAPb2W8cJpkBg.jpeg\" width=500, height=300></img>\n",
        "</p>"
      ],
      "metadata": {
        "id": "U6QvT3tpqXYM"
      }
    },
    {
      "cell_type": "markdown",
      "source": [
        "## Regularization\n",
        "\n",
        "Regularization refers to techniques that are used to calibrate machine learning models in order to minimize the adjusted loss function and prevent overfitting or underfitting. Using Regularization, we can fit our machine learning model appropriately on a given test set and hence reduce the errors in it.\n",
        "\n",
        "<p align='center'>\n",
        "    <img src=\"https://miro.medium.com/proxy/1*mh-QVwSKbe2kYCBh9mwA0Q.png\" width=600 height=380></img>\n",
        "</p>\n",
        "\n",
        "If you are using L1 (this is the square one on the left), you are more likely to have sparse results (this means some of your weights are zeros).\n",
        "\n",
        "### Question: Is this good or bad?\n",
        "\n",
        "It depends. If you want to avoid overfitting way more than you do, use L1. If you don't really care about it, you can use L2."
      ],
      "metadata": {
        "id": "rQ650jz2sAmd"
      }
    },
    {
      "cell_type": "markdown",
      "source": [
        "## Build an Artificial Neural Network"
      ],
      "metadata": {
        "id": "IcgTqS1snuQw"
      }
    },
    {
      "cell_type": "code",
      "source": [
        "test_x = np.array(np.ones((1, 20)))\n",
        "model = tf.keras.models.Sequential([\n",
        "    tf.keras.layers.Flatten(),\n",
        "    tf.keras.layers.Dense(10, activation='softmax')\n",
        "])\n",
        "\n",
        "result = model.predict(test_x)\n",
        "final = np.sum(result[0])\n",
        "final"
      ],
      "metadata": {
        "colab": {
          "base_uri": "https://localhost:8080/"
        },
        "id": "VdWoUc86H4Ps",
        "outputId": "c587c323-03ab-4e77-e862-e0ae666cc31c"
      },
      "execution_count": null,
      "outputs": [
        {
          "output_type": "stream",
          "name": "stdout",
          "text": [
            "1/1 [==============================] - 3s 3s/step\n"
          ]
        },
        {
          "output_type": "execute_result",
          "data": {
            "text/plain": [
              "1.0000001"
            ]
          },
          "metadata": {},
          "execution_count": 25
        }
      ]
    },
    {
      "cell_type": "code",
      "source": [
        "# use sequential api to build model\n",
        "model = tf.keras.models.Sequential([\n",
        "    tf.keras.layers.Flatten(), # neural network requires the input layer to be a vector instead of 2D array\n",
        "    ## Your Changes Start Here ##\n",
        "    # Things to change:\n",
        "    # number of hidden layers\n",
        "    # number of neurons per hidden layer\n",
        "    # the activation functions: Please refer this website: https://keras.io/api/layers/activations/\n",
        "    # the kernel_regularizer: Please refer this website: https://www.tensorflow.org/api_docs/python/tf/keras/regularizers/Regularizer\n",
        "    tf.keras.layers.Dense(1024, activation='relu', use_bias=True), # input units (usually starts with 128) and activation (it's a choice, usually relu)\n",
        "    tf.keras.layers.Dense(512, activation='relu', use_bias=True), # create more hidden layer if desired\n",
        "    tf.keras.layers.Dense(64, activation='relu', use_bias=True), # create more hidden layer if desired\n",
        "    # ... you can have however many you want\n",
        "    ## Your Changes Ends Here ##\n",
        "    tf.keras.layers.Dense(10, activation='softmax') # output layer or end layer | you have to match the number of classes\n",
        "])"
      ],
      "metadata": {
        "id": "vQU1dPsyn4un"
      },
      "execution_count": null,
      "outputs": []
    },
    {
      "cell_type": "markdown",
      "source": [
        "### Loss Function: MSE\n",
        "\n",
        "What is a loss function? A loss function helps you to identify how many mistakes the model is making. The most common one (originated from linear regression) is L2 loss or also known as the square loss. This loss function is written below\n",
        "\n",
        "$$\\mathcal{L}(Y, \\hat{Y}) = \\frac{1}{n} \\sum_{i=1}^n (y_i - \\hat{y}_i)^2$$\n",
        "\n",
        "where the $Y$ is ground truth at a vector level and the $\\hat{Y}$ is the educated guess or estimate from the model at a vector level. The left hand side of the formula is defined by the right hand side which means that the vectors can be expanded using sub-index $i$. This sub-index $i$ is a running index indicating which sample the function is referring to. For example, let us take a look at the baby version below.\n",
        "\n",
        "For example, suppose we have a few data points below. Denote $y_i - \\hat{y}_i$ as \"diff\" for short hand nickname. Then the table below walks you through how to execute the above formula mathematically.\n",
        "\n",
        "| $i$ | $y_i$ | $\\hat{y}_i$ | $\\text{diff}$ | $\\text{diff}^2$ |\n",
        "| --- | --- | --- | --- | --- |\n",
        "| 1  |  10  |  20  | -10  | 100  |\n",
        "| 2  |  10  |  5  | 5  | 25  |\n",
        "\n",
        "If you watch carefully, the formula is essentially $\\text{something}^2$ (we read \"something square\" or \"square of something\"), this means that it is a [convex function](https://en.wikipedia.org/wiki/Convex_function). Hence, there always exists an optimal point!!!"
      ],
      "metadata": {
        "id": "aJHM4Ew8qxRt"
      }
    },
    {
      "cell_type": "markdown",
      "source": [
        "### Loss Function: BCE\n",
        "\n",
        "If you are training a binary classifier, chances are you are using binary cross-entropy / log loss as your loss function. Loss Function: Binary Cross-Entropy / Log Loss takes the following form\n",
        "\n",
        "$$\\mathcal{L}(y, \\hat{y}) = -\\frac{1}{n} \\sum_{i=1}^n y_i \\log(\\hat{y}_i) + (1 - y_i) \\log (1-\\hat{y}_i)$$\n",
        "\n",
        "where $y$ is the label and $\\hat{y}$ is the predicted probability of the data point for all $n$ points.\n",
        "\n",
        "The plot below gives us a clear picture —as the predicted probability of the true class gets closer to zero, the loss increases exponentially:\n",
        "\n",
        "<p align='center'><img src='https://miro.medium.com/max/836/1*T8KWtAn8FkAcsg8RsjiZ6Q.png' width=500></img></p>\n",
        "\n",
        "Consider the following scenarios:\n",
        "- If predicted probabilities $\\hat{y}_i$ is small (close to 0) and truth $y_i = 0$, what happens?\n",
        "- If predicted probabilities $\\hat{y}_i$ is small (close to 0) and truth $y_i = 1$, what happens?\n",
        "- If predicted probabilities $\\hat{y}_i$ is large (close to 1) and truth $y_i = 0$, what happens?\n",
        "- If predicted probabilities $\\hat{y}_i$ is large (close to 1) and truth $y_i = 1$, what happens?\n",
        "\n",
        "Answers:\n",
        "- If prediction $\\hat{y}_i = 0.001$ and $y_i = 0$, then the loss is $-(1-0)\\log(1-0.001)=-\\log(0.999) \\approx 0$, i.e. error is small so the model is good\n",
        "- If prediction $\\hat{y}_i = 0.001$ and $y_i = 1$, then the loss is $-\\log(0.001)=-\\log(0.001) = 3$, i.e. the error is large so the model is bad\n",
        "- If prediction $\\hat{y}_i = 0.999$ and $y_i = 0$, then the loss is $-(1-0)\\log(1-0.999)=-\\log(0.001)=3$, i.e. the error is large so the model is bad\n",
        "- If prediction $\\hat{y}_i = 0.999$ and $y_i = 1$, then the loss is $-\\log(0.999) \\approx 0$, i.e. error is small so the model is good"
      ],
      "metadata": {
        "id": "6rg8dWmS_Z2S"
      }
    },
    {
      "cell_type": "markdown",
      "source": [
        "A good paper to refer to is [here](https://www.semanticscholar.org/paper/On-Loss-Functions-for-Deep-Neural-Networks-in-Janocha-Czarnecki/d589392ab606a3d2861988ebcba95176517939ec).\n",
        "\n",
        "<p align='center'>\n",
        "    <img src=\"https://d3i71xaburhd42.cloudfront.net/d589392ab606a3d2861988ebcba95176517939ec/2-Table1-1.png\" width=500></img>\n",
        "</p>"
      ],
      "metadata": {
        "id": "yukTGCV1BAK8"
      }
    },
    {
      "cell_type": "markdown",
      "source": [
        "### Optimization\n",
        "\n",
        "An optimizer is an algorithm to search for the most optimal (some minimum value) on a loss surface. Recall the loss surface is how many mistakes the model is making, so it is intuitive that the desired point (the optimal point) is where the loss is small. The location where the loss is small is the \"best\" parameters we need in our model.\n",
        "\n",
        "<p align='center'>\n",
        "    <img src=\"https://miro.medium.com/max/1400/1*47skUygd3tWf3yB9A10QHg.gif\" width=400></img>\n",
        "</p>\n",
        "\n",
        "- Animation of gradient descent is [here](https://towardsdatascience.com/a-visual-explanation-of-gradient-descent-methods-momentum-adagrad-rmsprop-adam-f898b102325c)\n",
        "- Other animation can be found [here](https://towardsai.net/p/machine-learning/analysis-of-learning-rate-in-gradient-descent-algorithm-using-python)\n",
        "\n",
        "Today, there are many different upgrades of optimization algorithm. Please see below:\n",
        "\n",
        "<p align='center'>\n",
        "    <img src=\"https://user-images.githubusercontent.com/11681225/49325458-fc785480-f585-11e8-8d2a-9012d6024c6e.gif\" width=400></img>\n",
        "</p>\n",
        "\n",
        "Source of this animation is [here](https://github.com/ilguyi/optimizers.numpy)."
      ],
      "metadata": {
        "id": "xPgBdZMS_Vyn"
      }
    },
    {
      "cell_type": "code",
      "source": [
        "# compile\n",
        "model.compile(\n",
        "    ## Your Changes Start Here ##\n",
        "    # optimizer: https://keras.io/api/optimizers/\n",
        "    # loss: https://keras.io/api/losses/\n",
        "    optimizer=\"adam\",\n",
        "    loss=\"categorical_crossentropy\",\n",
        "    ## Your Changes Ends Here ##\n",
        "    metrics=['accuracy']\n",
        ")"
      ],
      "metadata": {
        "id": "GWWxUY9ytK4u"
      },
      "execution_count": null,
      "outputs": []
    },
    {
      "cell_type": "markdown",
      "source": [
        "## Train on GPU\n",
        "\n",
        "When you train on GPU, make sure go to \"Edit\" then go to \"Notebook Setting\" and set GPU first."
      ],
      "metadata": {
        "id": "MaCFzTtrwhQ0"
      }
    },
    {
      "cell_type": "code",
      "source": [
        "# check gpu\n",
        "%tensorflow_version 2.x\n",
        "import tensorflow as tf\n",
        "device_name = tf.test.gpu_device_name()\n",
        "if device_name != '/device:GPU:0':\n",
        "  raise SystemError('GPU device not found')\n",
        "print('Found GPU at: {}'.format(device_name))"
      ],
      "metadata": {
        "id": "9rcJYEEww45j",
        "colab": {
          "base_uri": "https://localhost:8080/"
        },
        "outputId": "bdbee4c5-2cdc-44f1-b88c-d58a357d3613"
      },
      "execution_count": null,
      "outputs": [
        {
          "output_type": "stream",
          "name": "stdout",
          "text": [
            "Colab only includes TensorFlow 2.x; %tensorflow_version has no effect.\n",
            "Found GPU at: /device:GPU:0\n"
          ]
        }
      ]
    },
    {
      "cell_type": "code",
      "source": [
        "# callbacks\n",
        "callbacks = [ tf.keras.callbacks.ModelCheckpoint(\"toy_mnist_model.h5\", save_best_only=True) ]"
      ],
      "metadata": {
        "id": "862V6wKursky"
      },
      "execution_count": null,
      "outputs": []
    },
    {
      "cell_type": "code",
      "source": [
        "import os\n",
        "os.listdir()"
      ],
      "metadata": {
        "colab": {
          "base_uri": "https://localhost:8080/"
        },
        "id": "vnmOia-M2dD6",
        "outputId": "eb7225f6-c6b3-4cc6-b23d-dea81d117cb4"
      },
      "execution_count": null,
      "outputs": [
        {
          "output_type": "execute_result",
          "data": {
            "text/plain": [
              "['.config', 'mnist_data.pkl', 'sample_data']"
            ]
          },
          "metadata": {},
          "execution_count": 30
        }
      ]
    },
    {
      "cell_type": "code",
      "source": [
        "%%time\n",
        "# fit | we train the model here\n",
        "# use GPU\n",
        "with tf.device('/device:GPU:0'):\n",
        "    history = model.fit(\n",
        "        training_images, training_labels_one_hot_encoded,\n",
        "        validation_split=0.2,\n",
        "        ## Your Changes Start Here ##\n",
        "        # there is a sweet spot, you don't want to overfit, but you also want to make sure your model learned something\n",
        "        epochs=10\n",
        "        ## Your Changes Ends Here ##\n",
        "    )\n",
        "\n",
        "# # use CPU\n",
        "# history = model.fit(\n",
        "#         training_images, # features | explanatory variables\n",
        "#         training_labels_one_hot_encoded, # label <= create yourself (it's just a vector of 1's and 0's)\n",
        "#         validation_split=0.2,\n",
        "#         ## Your Changes Start Here ##\n",
        "#         # there is a sweet spot, you don't want to overfit, but you also want to make sure your model learned something\n",
        "#         epochs=10,\n",
        "#         ## Your Changes Ends Here ##\n",
        "#         callbacks=callbacks\n",
        "#     )"
      ],
      "metadata": {
        "colab": {
          "base_uri": "https://localhost:8080/"
        },
        "id": "DsQazWq1tROm",
        "outputId": "d45917e4-8087-4196-b0c5-1f0b0fce8cc4"
      },
      "execution_count": null,
      "outputs": [
        {
          "output_type": "stream",
          "name": "stdout",
          "text": [
            "Epoch 1/10\n",
            "1500/1500 [==============================] - 11s 3ms/step - loss: 0.2114 - accuracy: 0.9354 - val_loss: 0.1124 - val_accuracy: 0.9652\n",
            "Epoch 2/10\n",
            "1500/1500 [==============================] - 4s 3ms/step - loss: 0.0922 - accuracy: 0.9722 - val_loss: 0.0928 - val_accuracy: 0.9726\n",
            "Epoch 3/10\n",
            "1500/1500 [==============================] - 4s 3ms/step - loss: 0.0628 - accuracy: 0.9810 - val_loss: 0.0965 - val_accuracy: 0.9739\n",
            "Epoch 4/10\n",
            "1500/1500 [==============================] - 4s 3ms/step - loss: 0.0496 - accuracy: 0.9848 - val_loss: 0.0837 - val_accuracy: 0.9773\n",
            "Epoch 5/10\n",
            "1500/1500 [==============================] - 4s 3ms/step - loss: 0.0414 - accuracy: 0.9874 - val_loss: 0.0939 - val_accuracy: 0.9777\n",
            "Epoch 6/10\n",
            "1500/1500 [==============================] - 4s 3ms/step - loss: 0.0336 - accuracy: 0.9895 - val_loss: 0.1022 - val_accuracy: 0.9746\n",
            "Epoch 7/10\n",
            "1500/1500 [==============================] - 4s 3ms/step - loss: 0.0303 - accuracy: 0.9917 - val_loss: 0.0930 - val_accuracy: 0.9795\n",
            "Epoch 8/10\n",
            "1500/1500 [==============================] - 5s 3ms/step - loss: 0.0250 - accuracy: 0.9925 - val_loss: 0.1012 - val_accuracy: 0.9771\n",
            "Epoch 9/10\n",
            "1500/1500 [==============================] - 5s 3ms/step - loss: 0.0234 - accuracy: 0.9926 - val_loss: 0.1369 - val_accuracy: 0.9729\n",
            "Epoch 10/10\n",
            "1500/1500 [==============================] - 4s 3ms/step - loss: 0.0205 - accuracy: 0.9940 - val_loss: 0.1349 - val_accuracy: 0.9746\n",
            "CPU times: user 57.6 s, sys: 6.75 s, total: 1min 4s\n",
            "Wall time: 52.2 s\n"
          ]
        }
      ]
    },
    {
      "cell_type": "code",
      "source": [
        "len(np.arange(0, 28, 20))"
      ],
      "metadata": {
        "colab": {
          "base_uri": "https://localhost:8080/"
        },
        "id": "KGGI3KmETxIT",
        "outputId": "8a46c058-0d60-4282-d910-a43015b3d308"
      },
      "execution_count": null,
      "outputs": [
        {
          "output_type": "execute_result",
          "data": {
            "text/plain": [
              "2"
            ]
          },
          "metadata": {},
          "execution_count": 27
        }
      ]
    },
    {
      "cell_type": "code",
      "source": [
        "import cv2"
      ],
      "metadata": {
        "id": "DcqvB_6cT9T4"
      },
      "execution_count": null,
      "outputs": []
    },
    {
      "cell_type": "code",
      "source": [
        "model.predict(partial_img).max()"
      ],
      "metadata": {
        "colab": {
          "base_uri": "https://localhost:8080/"
        },
        "id": "Bgsd-WwNUEIS",
        "outputId": "b31497b1-4b46-412f-e9a8-92a2c1313867"
      },
      "execution_count": null,
      "outputs": [
        {
          "output_type": "stream",
          "name": "stdout",
          "text": [
            "1/1 [==============================] - 0s 21ms/step\n"
          ]
        },
        {
          "output_type": "execute_result",
          "data": {
            "text/plain": [
              "0.981326"
            ]
          },
          "metadata": {},
          "execution_count": 49
        }
      ]
    },
    {
      "cell_type": "code",
      "source": [
        "plt.figure(figsize=(10, 10))\n",
        "k = 1\n",
        "w, h = 20, 20\n",
        "for i in np.arange(0, 28, w):\n",
        "    for j in np.arange(0, 28, h):\n",
        "        for w in [20, 25]:\n",
        "            plt.subplot(2, 4, k)\n",
        "            plt.imshow(training_images[0][i:(i+w), j:(j+h)])\n",
        "            partial_img = cv2.resize(training_images[0][i:(i+w), j:(j+h)], (28, 28)).reshape((1, 28, 28))\n",
        "            plt.title(f\"{np.argmax(model.predict(partial_img))}, {np.max(model.predict(partial_img))}, {i}, {j}, {w}, {h}\")\n",
        "            k += 1"
      ],
      "metadata": {
        "colab": {
          "base_uri": "https://localhost:8080/",
          "height": 1000
        },
        "id": "4I-Hpgh1TCJ4",
        "outputId": "9f2a4808-01b4-479d-df94-9289a6726534"
      },
      "execution_count": null,
      "outputs": [
        {
          "output_type": "stream",
          "name": "stdout",
          "text": [
            "1/1 [==============================] - 0s 21ms/step\n",
            "1/1 [==============================] - 0s 17ms/step\n",
            "1/1 [==============================] - 0s 17ms/step\n",
            "1/1 [==============================] - 0s 17ms/step\n",
            "1/1 [==============================] - 0s 18ms/step\n",
            "1/1 [==============================] - 0s 17ms/step\n",
            "1/1 [==============================] - 0s 17ms/step\n",
            "1/1 [==============================] - 0s 16ms/step\n",
            "1/1 [==============================] - 0s 17ms/step\n",
            "1/1 [==============================] - 0s 18ms/step\n",
            "1/1 [==============================] - 0s 17ms/step\n",
            "1/1 [==============================] - 0s 19ms/step\n",
            "1/1 [==============================] - 0s 18ms/step\n",
            "1/1 [==============================] - 0s 17ms/step\n",
            "1/1 [==============================] - 0s 17ms/step\n",
            "1/1 [==============================] - 0s 17ms/step\n"
          ]
        },
        {
          "output_type": "display_data",
          "data": {
            "text/plain": [
              "<Figure size 1000x1000 with 8 Axes>"
            ],
            "image/png": "[encoded data removed]"
          },
          "metadata": {}
        }
      ]
    },
    {
      "cell_type": "markdown",
      "source": [
        "### Save\n",
        "\n",
        "You have done all the work to train the model. In practice, it can be thousands of epochs and many lines of code. You do not want to lose this model! We will use tensorflow to save and load the model below.\n",
        "\n",
        "```\n",
        "# save\n",
        "model.save('enter_your_desired_path.h5')\n",
        "\n",
        "# load\n",
        "new_model = tf.keras.models.load_model('enter_your_desired_path.h5')\n",
        "```"
      ],
      "metadata": {
        "id": "CvgRfbqizndK"
      }
    },
    {
      "cell_type": "code",
      "source": [
        "# save model: it must be .h5 format\n",
        "model.save('your_neuralnet_model.h5')"
      ],
      "metadata": {
        "id": "BL-Fw15tzvHx"
      },
      "execution_count": null,
      "outputs": []
    },
    {
      "cell_type": "code",
      "source": [
        "import cv2"
      ],
      "metadata": {
        "id": "JKJ-QDywaT4T"
      },
      "execution_count": null,
      "outputs": []
    },
    {
      "cell_type": "code",
      "source": [
        "img = cv2.imread('/content/sample.png')"
      ],
      "metadata": {
        "id": "qpXYj1Sfa_fC"
      },
      "execution_count": null,
      "outputs": []
    },
    {
      "cell_type": "code",
      "source": [
        "# Recreate the exact same model, including its weights and the optimizer\n",
        "new_model = tf.keras.models.load_model('your_neuralnet_model.h5')"
      ],
      "metadata": {
        "id": "B-eGUTPc3reD"
      },
      "execution_count": null,
      "outputs": []
    },
    {
      "cell_type": "code",
      "source": [
        "# check\n",
        "model.summary() == new_model.summary()"
      ],
      "metadata": {
        "colab": {
          "base_uri": "https://localhost:8080/"
        },
        "id": "iz-FbIQD3tjc",
        "outputId": "77ccc4dc-b163-47f8-9e52-9c8f00986d4d"
      },
      "execution_count": null,
      "outputs": [
        {
          "output_type": "stream",
          "name": "stdout",
          "text": [
            "Model: \"sequential_1\"\n",
            "_________________________________________________________________\n",
            " Layer (type)                Output Shape              Param #   \n",
            "=================================================================\n",
            " flatten_1 (Flatten)         (32, 784)                 0         \n",
            "                                                                 \n",
            " dense_1 (Dense)             (32, 1024)                803840    \n",
            "                                                                 \n",
            " dense_2 (Dense)             (32, 512)                 524800    \n",
            "                                                                 \n",
            " dense_3 (Dense)             (32, 64)                  32832     \n",
            "                                                                 \n",
            " dense_4 (Dense)             (32, 10)                  650       \n",
            "                                                                 \n",
            "=================================================================\n",
            "Total params: 1,362,122\n",
            "Trainable params: 1,362,122\n",
            "Non-trainable params: 0\n",
            "_________________________________________________________________\n",
            "Model: \"sequential_1\"\n",
            "_________________________________________________________________\n",
            " Layer (type)                Output Shape              Param #   \n",
            "=================================================================\n",
            " flatten_1 (Flatten)         (32, 784)                 0         \n",
            "                                                                 \n",
            " dense_1 (Dense)             (32, 1024)                803840    \n",
            "                                                                 \n",
            " dense_2 (Dense)             (32, 512)                 524800    \n",
            "                                                                 \n",
            " dense_3 (Dense)             (32, 64)                  32832     \n",
            "                                                                 \n",
            " dense_4 (Dense)             (32, 10)                  650       \n",
            "                                                                 \n",
            "=================================================================\n",
            "Total params: 1,362,122\n",
            "Trainable params: 1,362,122\n",
            "Non-trainable params: 0\n",
            "_________________________________________________________________\n"
          ]
        },
        {
          "output_type": "execute_result",
          "data": {
            "text/plain": [
              "True"
            ]
          },
          "metadata": {},
          "execution_count": 34
        }
      ]
    },
    {
      "cell_type": "markdown",
      "source": [
        "### Evaluation"
      ],
      "metadata": {
        "id": "3t9gQZl55ZGL"
      }
    },
    {
      "cell_type": "code",
      "source": [
        "# quick evaluation on test set\n",
        "this_final_loss_, this_final_acc_ = model.evaluate(test_images, test_labels_one_hot_encoded)\n",
        "print('Test Result: Loss is '+str(this_final_loss_)+', and accuracy is '+str(this_final_acc_))"
      ],
      "metadata": {
        "id": "I0qfk6_l5Z_7"
      },
      "execution_count": null,
      "outputs": []
    },
    {
      "cell_type": "code",
      "source": [
        "# quick evaluation on test set\n",
        "this_final_loss_, this_final_acc_ = new_model.evaluate(test_images, test_labels_one_hot_encoded)\n",
        "print('Test Result: Loss is '+str(this_final_loss_)+', and accuracy is '+str(this_final_acc_))"
      ],
      "metadata": {
        "colab": {
          "base_uri": "https://localhost:8080/"
        },
        "id": "QjEm-eijZYfn",
        "outputId": "83985605-93d4-439f-9f96-61fcf79945ba"
      },
      "execution_count": null,
      "outputs": [
        {
          "output_type": "stream",
          "name": "stdout",
          "text": [
            "313/313 [==============================] - 1s 2ms/step - loss: 0.0930 - accuracy: 0.9793\n",
            "Test Result: Loss is 0.09297549724578857, and accuracy is 0.9793000221252441\n"
          ]
        }
      ]
    },
    {
      "cell_type": "markdown",
      "source": [
        "## Visualize Performance"
      ],
      "metadata": {
        "id": "8CbbY531xabr"
      }
    },
    {
      "cell_type": "code",
      "source": [
        "plt.plot(history.history['loss'])\n",
        "plt.plot(history.history['val_loss'])\n",
        "plt.legend(['loss', 'val_loss'])\n",
        "plt.title('loss')"
      ],
      "metadata": {
        "id": "BvTCPMmhujXj"
      },
      "execution_count": null,
      "outputs": []
    },
    {
      "cell_type": "code",
      "source": [
        "# import\n",
        "import sklearn.metrics as metrics"
      ],
      "metadata": {
        "id": "ZMvxE7QoyUjT"
      },
      "execution_count": null,
      "outputs": []
    },
    {
      "cell_type": "code",
      "source": [
        "# predict\n",
        "test_labels_one_hot_encoded_predicted = model.predict(test_images)\n",
        "test_labels_predicted = np.argmax(test_labels_one_hot_encoded_predicted, axis=1)\n",
        "print(test_labels.shape)\n",
        "print(test_labels_predicted.shape)"
      ],
      "metadata": {
        "id": "zDgMsNzDyyxU"
      },
      "execution_count": null,
      "outputs": []
    },
    {
      "cell_type": "code",
      "source": [
        "test_images[0].reshape((1, 28, 28))"
      ],
      "metadata": {
        "colab": {
          "base_uri": "https://localhost:8080/"
        },
        "id": "OBJovH8XZiCv",
        "outputId": "ea249fff-8f4e-4bfb-efb3-97fa00fe6b97"
      },
      "execution_count": null,
      "outputs": [
        {
          "output_type": "execute_result",
          "data": {
            "text/plain": [
              "(28, 28)"
            ]
          },
          "metadata": {},
          "execution_count": 38
        }
      ]
    },
    {
      "cell_type": "code",
      "source": [
        "plt.imshow(test_images[0])"
      ],
      "metadata": {
        "colab": {
          "base_uri": "https://localhost:8080/",
          "height": 448
        },
        "id": "34Pu3hFjZtKM",
        "outputId": "cec7b8ee-4049-464f-fb61-2f74458a80da"
      },
      "execution_count": null,
      "outputs": [
        {
          "output_type": "execute_result",
          "data": {
            "text/plain": [
              "<matplotlib.image.AxesImage at 0x7fb376192dd0>"
            ]
          },
          "metadata": {},
          "execution_count": 41
        },
        {
          "output_type": "display_data",
          "data": {
            "text/plain": [
              "<Figure size 640x480 with 1 Axes>"
            ],
            "image/png": "[encoded data removed]"
          },
          "metadata": {}
        }
      ]
    },
    {
      "cell_type": "code",
      "source": [
        "# predict\n",
        "test_labels_one_hot_encoded_predicted = new_model.predict(test_images[0].reshape((1, 28, 28)))\n",
        "test_labels_predicted = np.argmax(test_labels_one_hot_encoded_predicted, axis=1)\n",
        "print(test_labels.shape)\n",
        "print(test_labels_predicted.shape)\n",
        "print(test_labels_predicted)"
      ],
      "metadata": {
        "colab": {
          "base_uri": "https://localhost:8080/"
        },
        "id": "w0mwP1zBZdJM",
        "outputId": "f0c42a4b-3fde-4722-918d-9c0b19a6274a"
      },
      "execution_count": null,
      "outputs": [
        {
          "output_type": "stream",
          "name": "stdout",
          "text": [
            "1/1 [==============================] - 0s 17ms/step\n",
            "(10000,)\n",
            "(1,)\n",
            "[7]\n"
          ]
        }
      ]
    },
    {
      "cell_type": "code",
      "source": [
        "pip list"
      ],
      "metadata": {
        "colab": {
          "base_uri": "https://localhost:8080/"
        },
        "id": "8KLlZvsrirsK",
        "outputId": "e37562cf-7440-4dfd-db2a-d6542b2366ff"
      },
      "execution_count": null,
      "outputs": [
        {
          "output_type": "stream",
          "name": "stdout",
          "text": [
            "Package                          Version\n",
            "-------------------------------- ---------------------\n",
            "absl-py                          1.4.0\n",
            "aiohttp                          3.8.4\n",
            "aiosignal                        1.3.1\n",
            "alabaster                        0.7.13\n",
            "albumentations                   1.2.1\n",
            "altair                           4.2.2\n",
            "anyio                            3.7.0\n",
            "appdirs                          1.4.4\n",
            "argon2-cffi                      21.3.0\n",
            "argon2-cffi-bindings             21.2.0\n",
            "array-record                     0.4.0\n",
            "arviz                            0.15.1\n",
            "astropy                          5.2.2\n",
            "astunparse                       1.6.3\n",
            "async-timeout                    4.0.2\n",
            "attrs                            23.1.0\n",
            "audioread                        3.0.0\n",
            "autograd                         1.6.1\n",
            "Babel                            2.12.1\n",
            "backcall                         0.2.0\n",
            "beautifulsoup4                   4.11.2\n",
            "bleach                           6.0.0\n",
            "blis                             0.7.9\n",
            "blosc2                           2.0.0\n",
            "bokeh                            2.4.3\n",
            "branca                           0.6.0\n",
            "build                            0.10.0\n",
            "CacheControl                     0.13.1\n",
            "cached-property                  1.5.2\n",
            "cachetools                       5.3.1\n",
            "catalogue                        2.0.8\n",
            "certifi                          2023.5.7\n",
            "cffi                             1.15.1\n",
            "chardet                          4.0.0\n",
            "charset-normalizer               2.0.12\n",
            "chex                             0.1.7\n",
            "click                            8.1.3\n",
            "click-plugins                    1.1.1\n",
            "cligj                            0.7.2\n",
            "cloudpickle                      2.2.1\n",
            "cmake                            3.25.2\n",
            "cmdstanpy                        1.1.0\n",
            "colorcet                         3.0.1\n",
            "colorlover                       0.3.0\n",
            "community                        1.0.0b1\n",
            "confection                       0.0.4\n",
            "cons                             0.4.6\n",
            "contextlib2                      0.6.0.post1\n",
            "contourpy                        1.1.0\n",
            "convertdate                      2.4.0\n",
            "cufflinks                        0.17.3\n",
            "cupy-cuda11x                     11.0.0\n",
            "cvxopt                           1.3.1\n",
            "cvxpy                            1.3.1\n",
            "cycler                           0.11.0\n",
            "cymem                            2.0.7\n",
            "Cython                           0.29.35\n",
            "dask                             2022.12.1\n",
            "datascience                      0.17.6\n",
            "db-dtypes                        1.1.1\n",
            "dbus-python                      1.2.16\n",
            "debugpy                          1.6.6\n",
            "decorator                        4.4.2\n",
            "defusedxml                       0.7.1\n",
            "distributed                      2022.12.1\n",
            "dlib                             19.24.2\n",
            "dm-tree                          0.1.8\n",
            "docutils                         0.16\n",
            "dopamine-rl                      4.0.6\n",
            "duckdb                           0.8.1\n",
            "earthengine-api                  0.1.357\n",
            "easydict                         1.10\n",
            "ecos                             2.0.12\n",
            "editdistance                     0.6.2\n",
            "en-core-web-sm                   3.5.0\n",
            "entrypoints                      0.4\n",
            "ephem                            4.1.4\n",
            "et-xmlfile                       1.1.0\n",
            "etils                            1.3.0\n",
            "etuples                          0.3.9\n",
            "exceptiongroup                   1.1.1\n",
            "fastai                           2.7.12\n",
            "fastcore                         1.5.29\n",
            "fastdownload                     0.0.7\n",
            "fastjsonschema                   2.17.1\n",
            "fastprogress                     1.0.3\n",
            "fastrlock                        0.8.1\n",
            "filelock                         3.12.2\n",
            "Fiona                            1.9.4.post1\n",
            "firebase-admin                   5.3.0\n",
            "Flask                            2.2.5\n",
            "flatbuffers                      23.5.26\n",
            "flax                             0.6.11\n",
            "folium                           0.14.0\n",
            "fonttools                        4.40.0\n",
            "frozendict                       2.3.8\n",
            "frozenlist                       1.3.3\n",
            "fsspec                           2023.6.0\n",
            "future                           0.18.3\n",
            "gast                             0.4.0\n",
            "gcsfs                            2023.6.0\n",
            "GDAL                             3.3.2\n",
            "gdown                            4.6.6\n",
            "gensim                           4.3.1\n",
            "geographiclib                    2.0\n",
            "geopandas                        0.13.2\n",
            "geopy                            2.3.0\n",
            "gin-config                       0.5.0\n",
            "glob2                            0.7\n",
            "google                           2.0.3\n",
            "google-api-core                  2.11.1\n",
            "google-api-python-client         2.84.0\n",
            "google-auth                      2.17.3\n",
            "google-auth-httplib2             0.1.0\n",
            "google-auth-oauthlib             1.0.0\n",
            "google-cloud-bigquery            3.10.0\n",
            "google-cloud-bigquery-connection 1.12.0\n",
            "google-cloud-bigquery-storage    2.20.0\n",
            "google-cloud-core                2.3.2\n",
            "google-cloud-datastore           2.15.2\n",
            "google-cloud-firestore           2.11.1\n",
            "google-cloud-functions           1.13.0\n",
            "google-cloud-language            2.9.1\n",
            "google-cloud-storage             2.8.0\n",
            "google-cloud-translate           3.11.1\n",
            "google-colab                     1.0.0\n",
            "google-crc32c                    1.5.0\n",
            "google-pasta                     0.2.0\n",
            "google-resumable-media           2.5.0\n",
            "googleapis-common-protos         1.59.1\n",
            "googledrivedownloader            0.4\n",
            "graphviz                         0.20.1\n",
            "greenlet                         2.0.2\n",
            "grpc-google-iam-v1               0.12.6\n",
            "grpcio                           1.56.0\n",
            "grpcio-status                    1.48.2\n",
            "gspread                          3.4.2\n",
            "gspread-dataframe                3.0.8\n",
            "gym                              0.25.2\n",
            "gym-notices                      0.0.8\n",
            "h5netcdf                         1.2.0\n",
            "h5py                             3.8.0\n",
            "holidays                         0.27.1\n",
            "holoviews                        1.15.4\n",
            "html5lib                         1.1\n",
            "httpimport                       1.3.0\n",
            "httplib2                         0.21.0\n",
            "humanize                         4.6.0\n",
            "hyperopt                         0.2.7\n",
            "idna                             3.4\n",
            "imageio                          2.25.1\n",
            "imageio-ffmpeg                   0.4.8\n",
            "imagesize                        1.4.1\n",
            "imbalanced-learn                 0.10.1\n",
            "imgaug                           0.4.0\n",
            "importlib-resources              5.12.0\n",
            "imutils                          0.5.4\n",
            "inflect                          6.0.4\n",
            "iniconfig                        2.0.0\n",
            "intel-openmp                     2023.1.0\n",
            "ipykernel                        5.5.6\n",
            "ipython                          7.34.0\n",
            "ipython-genutils                 0.2.0\n",
            "ipython-sql                      0.4.1\n",
            "ipywidgets                       7.7.1\n",
            "itsdangerous                     2.1.2\n",
            "jax                              0.4.10\n",
            "jaxlib                           0.4.10+cuda11.cudnn86\n",
            "jieba                            0.42.1\n",
            "Jinja2                           3.1.2\n",
            "joblib                           1.2.0\n",
            "jsonpickle                       3.0.1\n",
            "jsonschema                       4.3.3\n",
            "jupyter-client                   6.1.12\n",
            "jupyter-console                  6.1.0\n",
            "jupyter_core                     5.3.1\n",
            "jupyter-server                   1.24.0\n",
            "jupyterlab-pygments              0.2.2\n",
            "jupyterlab-widgets               3.0.7\n",
            "kaggle                           1.5.13\n",
            "keras                            2.12.0\n",
            "kiwisolver                       1.4.4\n",
            "langcodes                        3.3.0\n",
            "lazy_loader                      0.2\n",
            "libclang                         16.0.0\n",
            "librosa                          0.10.0.post2\n",
            "lightgbm                         3.3.5\n",
            "lit                              16.0.6\n",
            "llvmlite                         0.39.1\n",
            "locket                           1.0.0\n",
            "logical-unification              0.4.6\n",
            "LunarCalendar                    0.0.9\n",
            "lxml                             4.9.2\n",
            "Markdown                         3.4.3\n",
            "markdown-it-py                   3.0.0\n",
            "MarkupSafe                       2.1.3\n",
            "matplotlib                       3.7.1\n",
            "matplotlib-inline                0.1.6\n",
            "matplotlib-venn                  0.11.9\n",
            "mdurl                            0.1.2\n",
            "miniKanren                       1.0.3\n",
            "missingno                        0.5.2\n",
            "mistune                          0.8.4\n",
            "mizani                           0.8.1\n",
            "mkl                              2019.0\n",
            "ml-dtypes                        0.2.0\n",
            "mlxtend                          0.14.0\n",
            "more-itertools                   9.1.0\n",
            "moviepy                          1.0.3\n",
            "mpmath                           1.3.0\n",
            "msgpack                          1.0.5\n",
            "multidict                        6.0.4\n",
            "multipledispatch                 0.6.0\n",
            "multitasking                     0.0.11\n",
            "murmurhash                       1.0.9\n",
            "music21                          8.1.0\n",
            "natsort                          8.3.1\n",
            "nbclient                         0.8.0\n",
            "nbconvert                        6.5.4\n",
            "nbformat                         5.9.0\n",
            "nest-asyncio                     1.5.6\n",
            "networkx                         3.1\n",
            "nibabel                          3.0.2\n",
            "nltk                             3.8.1\n",
            "notebook                         6.4.8\n",
            "numba                            0.56.4\n",
            "numexpr                          2.8.4\n",
            "numpy                            1.22.4\n",
            "oauth2client                     4.1.3\n",
            "oauthlib                         3.2.2\n",
            "opencv-contrib-python            4.7.0.72\n",
            "opencv-python                    4.7.0.72\n",
            "opencv-python-headless           4.7.0.72\n",
            "openpyxl                         3.0.10\n",
            "opt-einsum                       3.3.0\n",
            "optax                            0.1.5\n",
            "orbax-checkpoint                 0.2.6\n",
            "osqp                             0.6.2.post8\n",
            "packaging                        23.1\n",
            "palettable                       3.3.3\n",
            "pandas                           1.5.3\n",
            "pandas-datareader                0.10.0\n",
            "pandas-gbq                       0.17.9\n",
            "pandocfilters                    1.5.0\n",
            "panel                            0.14.4\n",
            "param                            1.13.0\n",
            "parso                            0.8.3\n",
            "partd                            1.4.0\n",
            "pathlib                          1.0.1\n",
            "pathy                            0.10.2\n",
            "patsy                            0.5.3\n",
            "pexpect                          4.8.0\n",
            "pickleshare                      0.7.5\n",
            "Pillow                           8.4.0\n",
            "pip                              23.1.2\n",
            "pip-tools                        6.13.0\n",
            "platformdirs                     3.7.0\n",
            "plotly                           5.13.1\n",
            "plotnine                         0.10.1\n",
            "pluggy                           1.2.0\n",
            "polars                           0.17.3\n",
            "pooch                            1.6.0\n",
            "portpicker                       1.5.2\n",
            "prefetch-generator               1.0.3\n",
            "preshed                          3.0.8\n",
            "prettytable                      0.7.2\n",
            "proglog                          0.1.10\n",
            "progressbar2                     4.2.0\n",
            "prometheus-client                0.17.0\n",
            "promise                          2.3\n",
            "prompt-toolkit                   3.0.38\n",
            "prophet                          1.1.4\n",
            "proto-plus                       1.22.3\n",
            "protobuf                         3.20.3\n",
            "psutil                           5.9.5\n",
            "psycopg2                         2.9.6\n",
            "ptyprocess                       0.7.0\n",
            "py-cpuinfo                       9.0.0\n",
            "py4j                             0.10.9.7\n",
            "pyarrow                          9.0.0\n",
            "pyasn1                           0.5.0\n",
            "pyasn1-modules                   0.3.0\n",
            "pycocotools                      2.0.6\n",
            "pycparser                        2.21\n",
            "pyct                             0.5.0\n",
            "pydantic                         1.10.9\n",
            "pydata-google-auth               1.8.0\n",
            "pydot                            1.4.2\n",
            "pydot-ng                         2.0.0\n",
            "pydotplus                        2.0.2\n",
            "PyDrive                          1.3.1\n",
            "pyerfa                           2.0.0.3\n",
            "pygame                           2.4.0\n",
            "Pygments                         2.14.0\n",
            "PyGObject                        3.36.0\n",
            "pymc                             5.1.2\n",
            "PyMeeus                          0.5.12\n",
            "pymystem3                        0.2.0\n",
            "PyOpenGL                         3.1.7\n",
            "pyparsing                        3.1.0\n",
            "pyproj                           3.6.0\n",
            "pyproject_hooks                  1.0.0\n",
            "pyrsistent                       0.19.3\n",
            "PySocks                          1.7.1\n",
            "pytensor                         2.10.1\n",
            "pytest                           7.2.2\n",
            "python-apt                       0.0.0\n",
            "python-dateutil                  2.8.2\n",
            "python-louvain                   0.16\n",
            "python-slugify                   8.0.1\n",
            "python-utils                     3.7.0\n",
            "pytz                             2022.7.1\n",
            "pyviz-comms                      2.3.2\n",
            "PyWavelets                       1.4.1\n",
            "PyYAML                           6.0\n",
            "pyzmq                            23.2.1\n",
            "qdldl                            0.1.7\n",
            "qudida                           0.0.4\n",
            "regex                            2022.10.31\n",
            "requests                         2.27.1\n",
            "requests-oauthlib                1.3.1\n",
            "requests-unixsocket              0.2.0\n",
            "requirements-parser              0.5.0\n",
            "rich                             13.4.2\n",
            "rpy2                             3.5.5\n",
            "rsa                              4.9\n",
            "scikit-image                     0.19.3\n",
            "scikit-learn                     1.2.2\n",
            "scipy                            1.10.1\n",
            "scs                              3.2.3\n",
            "seaborn                          0.12.2\n",
            "Send2Trash                       1.8.2\n",
            "setuptools                       67.7.2\n",
            "shapely                          2.0.1\n",
            "six                              1.16.0\n",
            "sklearn-pandas                   2.2.0\n",
            "smart-open                       6.3.0\n",
            "sniffio                          1.3.0\n",
            "snowballstemmer                  2.2.0\n",
            "sortedcontainers                 2.4.0\n",
            "soundfile                        0.12.1\n",
            "soupsieve                        2.4.1\n",
            "soxr                             0.3.5\n",
            "spacy                            3.5.3\n",
            "spacy-legacy                     3.0.12\n",
            "spacy-loggers                    1.0.4\n",
            "Sphinx                           3.5.4\n",
            "sphinxcontrib-applehelp          1.0.4\n",
            "sphinxcontrib-devhelp            1.0.2\n",
            "sphinxcontrib-htmlhelp           2.0.1\n",
            "sphinxcontrib-jsmath             1.0.1\n",
            "sphinxcontrib-qthelp             1.0.3\n",
            "sphinxcontrib-serializinghtml    1.1.5\n",
            "SQLAlchemy                       2.0.16\n",
            "sqlparse                         0.4.4\n",
            "srsly                            2.4.6\n",
            "statsmodels                      0.13.5\n",
            "sympy                            1.11.1\n",
            "tables                           3.8.0\n",
            "tabulate                         0.8.10\n",
            "tblib                            2.0.0\n",
            "tenacity                         8.2.2\n",
            "tensorboard                      2.12.3\n",
            "tensorboard-data-server          0.7.1\n",
            "tensorflow                       2.12.0\n",
            "tensorflow-datasets              4.9.2\n",
            "tensorflow-estimator             2.12.0\n",
            "tensorflow-gcs-config            2.12.0\n",
            "tensorflow-hub                   0.13.0\n",
            "tensorflow-io-gcs-filesystem     0.32.0\n",
            "tensorflow-metadata              1.13.1\n",
            "tensorflow-probability           0.20.1\n",
            "tensorstore                      0.1.38\n",
            "termcolor                        2.3.0\n",
            "terminado                        0.17.1\n",
            "text-unidecode                   1.3\n",
            "textblob                         0.17.1\n",
            "tf-slim                          1.1.0\n",
            "thinc                            8.1.10\n",
            "threadpoolctl                    3.1.0\n",
            "tifffile                         2023.4.12\n",
            "tinycss2                         1.2.1\n",
            "toml                             0.10.2\n",
            "tomli                            2.0.1\n",
            "toolz                            0.12.0\n",
            "torch                            2.0.1+cu118\n",
            "torchaudio                       2.0.2+cu118\n",
            "torchdata                        0.6.1\n",
            "torchsummary                     1.5.1\n",
            "torchtext                        0.15.2\n",
            "torchvision                      0.15.2+cu118\n",
            "tornado                          6.3.1\n",
            "tqdm                             4.65.0\n",
            "traitlets                        5.7.1\n",
            "triton                           2.0.0\n",
            "tweepy                           4.13.0\n",
            "typer                            0.7.0\n",
            "types-setuptools                 68.0.0.0\n",
            "typing_extensions                4.6.3\n",
            "tzlocal                          5.0.1\n",
            "uritemplate                      4.1.1\n",
            "urllib3                          1.26.16\n",
            "vega-datasets                    0.9.0\n",
            "wasabi                           1.1.2\n",
            "wcwidth                          0.2.6\n",
            "webcolors                        1.13\n",
            "webencodings                     0.5.1\n",
            "websocket-client                 1.6.0\n",
            "Werkzeug                         2.3.6\n",
            "wheel                            0.40.0\n",
            "widgetsnbextension               3.6.4\n",
            "wordcloud                        1.8.2.2\n",
            "wrapt                            1.14.1\n",
            "xarray                           2022.12.0\n",
            "xarray-einstats                  0.5.1\n",
            "xgboost                          1.7.6\n",
            "xlrd                             2.0.1\n",
            "yarl                             1.9.2\n",
            "yellowbrick                      1.5\n",
            "yfinance                         0.2.21\n",
            "zict                             3.0.0\n",
            "zipp                             3.15.0\n"
          ]
        }
      ]
    },
    {
      "cell_type": "code",
      "source": [
        "# confusion matrix\n",
        "conf_mat = metrics.confusion_matrix(y_true=test_labels, y_pred=test_labels_predicted)\n",
        "conf_mat"
      ],
      "metadata": {
        "id": "0uWpDZ13yXyd"
      },
      "execution_count": null,
      "outputs": []
    },
    {
      "cell_type": "code",
      "source": [
        "# waht are the diagonals\n",
        "np.diagonal(conf_mat)"
      ],
      "metadata": {
        "id": "sKTHGyLZy-EE"
      },
      "execution_count": null,
      "outputs": []
    },
    {
      "cell_type": "code",
      "source": [
        "# sum of diagonal\n",
        "np.sum(np.diagonal(conf_mat))"
      ],
      "metadata": {
        "id": "yYE1bLNczaSs"
      },
      "execution_count": null,
      "outputs": []
    },
    {
      "cell_type": "code",
      "source": [
        "# sum of the matrix\n",
        "np.sum(conf_mat)"
      ],
      "metadata": {
        "id": "5GjfuSQMze3S"
      },
      "execution_count": null,
      "outputs": []
    },
    {
      "cell_type": "code",
      "source": [
        "# accuracy\n",
        "np.sum(np.diagonal(conf_mat))/np.sum(conf_mat)"
      ],
      "metadata": {
        "id": "dEDZj2Mjzf70"
      },
      "execution_count": null,
      "outputs": []
    },
    {
      "cell_type": "code",
      "source": [
        "# quick way\n",
        "from sklearn.metrics import confusion_matrix, ConfusionMatrixDisplay"
      ],
      "metadata": {
        "id": "ksj225wWNZs_"
      },
      "execution_count": null,
      "outputs": []
    },
    {
      "cell_type": "code",
      "source": [
        "# plot\n",
        "cm = confusion_matrix(test_labels, test_labels_predicted, labels=np.arange(10))\n",
        "disp = ConfusionMatrixDisplay(confusion_matrix=cm, display_labels=np.arange(10))\n",
        "disp.plot()\n",
        "plt.title('test acc='+str(round(np.sum(np.diagonal(conf_mat))/np.sum(conf_mat),3)))\n",
        "plt.show()"
      ],
      "metadata": {
        "id": "9CwhrfELNa2j"
      },
      "execution_count": null,
      "outputs": []
    },
    {
      "cell_type": "markdown",
      "source": [
        "### Why is high accuracy for this data helpful?\n",
        "\n",
        "Recall [Alan Turing](https://en.wikipedia.org/wiki/Alan_Turing) and his [Turing Test](https://en.wikipedia.org/wiki/Turing_test).\n",
        "\n",
        "The interpretation is that the high accuracy on test set means\n",
        "- the model does a great job at recognizing the patterns amongst different digits;\n",
        "- the model can pass a Turing Test or that we are confident that the model can pass a Turing Test with high probability;\n",
        "\n",
        "Hence, the conclusion is at this particular task (recognizing digits from images) the machine is at near-human level."
      ],
      "metadata": {
        "id": "gCDjhS5G4THT"
      }
    },
    {
      "cell_type": "markdown",
      "source": [
        "# Convolutional Neural Networks\n",
        "\n",
        "The benefit of using CNNs is their ability to develop an internal representation of a two-dimensional image . This allows the model to learn position and scale in variant structures in the data which is important when working with images."
      ],
      "metadata": {
        "id": "r-1YEUiXEn3x"
      }
    },
    {
      "cell_type": "markdown",
      "source": [
        "Here is an interesting visualization:\n",
        "\n",
        "<p align='center'><img src=\"https://i.makeagif.com/media/3-08-2021/48032H.gif\"></img</p>\n",
        "\n",
        "Given an image, we can use filters and matrix operation to combine a group of pixels into one feature. We can repeatedly do this for everywhere on the original image and we are able to create a list of new features. This is called feature mapping, which gives us new information to be connected into a neural network (or also known as dense layers in `tensorflow`) to create classified labels."
      ],
      "metadata": {
        "id": "h6QRHlwt8V7b"
      }
    },
    {
      "cell_type": "markdown",
      "source": [
        "## Introduction\n",
        "\n",
        "First, we introduce convolution operation. A convolution operation is like a matrix operation. It is defined as element-wise matrix multiplication.\n",
        "\n",
        "$$\n",
        "\\underbrace{\n",
        "\\begin{bmatrix}\n",
        "1 & 2 & 3 \\\\\n",
        "3 & 4 & 5 \\\\\n",
        "5 & 6 & 7 \\\\\n",
        "\\end{bmatrix}\n",
        "}_\\text{image}\n",
        "⊗\n",
        "\\underbrace{\n",
        "\\begin{bmatrix}\n",
        "1 & 0 \\\\\n",
        "1 & 0 \\\\\n",
        "\\end{bmatrix}\n",
        "}_\\text{filter}\n",
        "=\n",
        "\\begin{bmatrix}\n",
        "1 \\times 1 + 0 + 3 \\times 1 + 0 & 2 \\times 1 + 0 + 4 \\times 1 + 0 \\\\\n",
        "3 \\times 1 + 0 + 5 \\times 1 + 0 & 4 \\times 1 + 0 + 6 \\times 1 + 0 \\\\\n",
        "\\end{bmatrix}\n",
        "=\n",
        "\\begin{bmatrix}\n",
        "4 & 6 \\\\\n",
        "8 & 10 \\\\\n",
        "\\end{bmatrix}\n",
        "$$\n",
        "\n",
        "Next, we introduce pooling. There are two types of pooling: (1) average pooling, and (2) maximum pooling.\n",
        "\n",
        "This is average pooling.\n",
        "$$\n",
        "\\text{ave}\\bigg(\n",
        "\\begin{bmatrix}\n",
        "4 & 6 \\\\\n",
        "8 & 10 \\\\\n",
        "\\end{bmatrix}\n",
        "\\bigg) = (4 + 6 + 8 + 10) \\frac{1}{4} = 28/4 = 7\n",
        "$$\n",
        "\n",
        "This is maximum pooling.\n",
        "$$\n",
        "\\text{max}\\bigg(\n",
        "\\begin{bmatrix}\n",
        "4 & 6 \\\\\n",
        "8 & 10 \\\\\n",
        "\\end{bmatrix}\n",
        "\\bigg) = \\max\\{4, 6, 8, 10\\} = 10\n",
        "$$\n"
      ],
      "metadata": {
        "id": "u-OOkRPXzits"
      }
    },
    {
      "cell_type": "markdown",
      "source": [
        "## How does this work in a CNN?\n",
        "\n",
        "### Convolution layer (CONV)\n",
        "\n",
        "The convolution layer (CONV) uses filters that perform convolution operations as it is scanning the input $I$ with respect to its dimensions. Its hyperparameters include the filter size $F$ and stride $S$. The resulting output $O$ is called feature map or activation map.\n",
        "\n",
        "<p align='center'><img src=\"https://stanford.edu/~shervine/teaching/cs-230/illustrations/convolution-layer-a.png?1c517e00cb8d709baf32fc3d39ebae67\"></img></p>\n",
        "\n",
        "### Pooling (POOL)\n",
        "\n",
        "The pooling layer (POOL) is a downsampling operation, typically applied after a convolution layer, which does some spatial invariance. In particular, max and average pooling are special kinds of pooling where the maximum and average value is taken, respectively.\n",
        "\n",
        "| Type | Max Pooling | Ave Pooling |\n",
        "| ---  | -----       | ------      |\n",
        "| Purpose | Each pooling operation selects the maximum value of the current view | Each pooling operation averages the values of the current view |\n",
        "| Illustration | <img src=\"https://stanford.edu/~shervine/teaching/cs-230/illustrations/max-pooling-a.png?711b14799d07f9306864695e2713ae07\" width='250' height='150'></img> | <img src=\"https://stanford.edu/~shervine/teaching/cs-230/illustrations/average-pooling-a.png?58f9ab6d61248c3ec8d526ef65763d2f\" width='250' height='150'></img> |\n",
        "| Comments | Preserves detected features; Most commonly used | Downsamples feature map; Used in LeNet |\n",
        "\n",
        "### Fully Connected (FC)\n",
        "\n",
        "The fully connected layer (FC) operates on a flattened input where each input is connected to all neurons. If present, FC layers are usually found towards the end of CNN architectures and can be used to optimize objectives such as class scores.\n",
        "\n",
        "<p align='center'><img src=\"https://stanford.edu/~shervine/teaching/cs-230/illustrations/fully-connected-ltr.png?32caf9e07c79d652faa292812579d063\" width=\"400\" height=\"150\"></img></p>\n",
        "\n",
        "\n",
        "\n",
        "\n",
        "\n"
      ],
      "metadata": {
        "id": "GYI5n8WO89wf"
      }
    },
    {
      "cell_type": "code",
      "source": [
        "# create a small convolutional layer\n",
        "model = tf.keras.models.Sequential()\n",
        "model.add(tf.keras.layers.Conv2D(1, (3,3), input_shape=(28, 28, 1)))\n",
        "model.add(tf.keras.layers.MaxPooling2D())\n",
        "\n",
        "# remark:\n",
        "# This is a very simple model. Though it is called a model,\n",
        "# it is actually not a neural network yet. Because there is\n",
        "# no dense layers yet. We just want to see what the Conv2D function\n",
        "# does to the pictures.\n",
        "# summary\n",
        "model.summary()"
      ],
      "metadata": {
        "id": "zWiAHXVl-1gh"
      },
      "execution_count": null,
      "outputs": []
    },
    {
      "cell_type": "code",
      "source": [
        "# before model fitting, let us just throw in 1 image\n",
        "sample_output_before_fitting = model.predict(training_images[0].reshape((1, 28, 28, 1)))"
      ],
      "metadata": {
        "id": "O54e0JCuCQRQ"
      },
      "execution_count": null,
      "outputs": []
    },
    {
      "cell_type": "code",
      "source": [
        "# reshape\n",
        "sample_output_2darray = sample_output_before_fitting.reshape((13, 13))\n",
        "plt.imshow(sample_output_2darray)"
      ],
      "metadata": {
        "id": "2rBCKRhXC3Ku"
      },
      "execution_count": null,
      "outputs": []
    },
    {
      "cell_type": "code",
      "source": [
        "# build a CNN (Convolutional Neural Network) model\n",
        "model = tf.keras.models.Sequential(name=\"MODEL_JohnSmith\")\n",
        "## Your Changes Start Here ##\n",
        "model.add(tf.keras.layers.Conv2D(filters=32, kernel_size=(3,3), activation='relu', input_shape=(28, 28, 1), name=\"Conv_1\"))\n",
        "model.add(tf.keras.layers.MaxPooling2D())\n",
        "model.add(tf.keras.layers.Conv2D(filters=64, kernel_size=(2,2), activation='relu', name=\"Conv_2\"))\n",
        "model.add(tf.keras.layers.MaxPooling2D())\n",
        "# You can have more CONVOLUTIONAL layers! # <===== TRY TO TUNE THIS!!!\n",
        "# Each convolutional layer can have arbitrary different number of units! # <===== TRY TO TUNE THIS!!!\n",
        "# ... you can have however many you want\n",
        "## Your Changes Ends Here ##\n",
        "# up to here, we finish coding the convolutional layers, we have not done neural network layers\n",
        "\n",
        "# build neural network layers\n",
        "model.add(tf.keras.layers.Flatten()) # neural network requires the input layer to be a vector instead of 2D array\n",
        "## Your Changes Start Here ##\n",
        "model.add(tf.keras.layers.Dense(256, activation='relu', use_bias=True)) # input units (usually starts with 128) and activation (it's a choice, usually relu)\n",
        "model.add(tf.keras.layers.Dense(128, activation='relu', use_bias=True)) # input units (usually starts with 128) and activation (it's a choice, usually relu)\n",
        "# You can have more DENSE layers! # <===== TRY TO TUNE THIS!!!\n",
        "# Each dense layer can have arbitrary different number of units! # <===== TRY TO TUNE THIS!!!\n",
        "# ... you can have however many you want\n",
        "## Your Changes Ends Here ##\n",
        "model.add(tf.keras.layers.Dense(10, activation='softmax')) # output layer or end layer | you have to match the number of classes\n",
        "# summary\n",
        "model.summary()"
      ],
      "metadata": {
        "id": "S7hWzQHGDwBL"
      },
      "execution_count": null,
      "outputs": []
    },
    {
      "cell_type": "code",
      "source": [
        "# plot using a utility function\n",
        "tf.keras.utils.plot_model(model, to_file=\"my_model.png\", show_shapes=True, show_layer_names=True)\n",
        "# where is it?\n",
        "# This file, my_model.png, is under your Colab folder.\n",
        "# Go to the left, click on the \"Folder\" button, and you should see this png file."
      ],
      "metadata": {
        "id": "eEQfok7KEzdN"
      },
      "execution_count": null,
      "outputs": []
    },
    {
      "cell_type": "code",
      "source": [
        "# compile\n",
        "model.compile(\n",
        "    ## Your Changes Start Here ##\n",
        "    # optimizer: https://keras.io/api/optimizers/\n",
        "    # loss: https://keras.io/api/losses/\n",
        "    optimizer=\"adam\",\n",
        "    loss=\"categorical_crossentropy\",\n",
        "    ## Your Changes Ends Here ##\n",
        "    metrics=['accuracy']\n",
        ")"
      ],
      "metadata": {
        "id": "AeaYQBpqFBRF"
      },
      "execution_count": null,
      "outputs": []
    },
    {
      "cell_type": "code",
      "source": [
        "# load gpu\n",
        "%tensorflow_version 2.x\n",
        "import tensorflow as tf\n",
        "device_name = tf.test.gpu_device_name()\n",
        "if device_name != '/device:GPU:0':\n",
        "  raise SystemError('GPU device not found')\n",
        "print('Found GPU at: {}'.format(device_name))"
      ],
      "metadata": {
        "id": "BG9ViI6IFh-c"
      },
      "execution_count": null,
      "outputs": []
    },
    {
      "cell_type": "code",
      "source": [
        "# fit | we train the model here\n",
        "# use GPU\n",
        "with tf.device('/device:GPU:0'):\n",
        "    history = model.fit(\n",
        "        training_images, training_labels_one_hot_encoded,\n",
        "        validation_split=0.2,\n",
        "        ## Your Changes Start Here ##\n",
        "        # there is a sweet spot, you don't want to overfit, but you also want to make sure your model learned something\n",
        "        epochs=10\n",
        "        ## Your Changes Ends Here ##\n",
        "    )"
      ],
      "metadata": {
        "id": "e5Ud7WCuFbnU"
      },
      "execution_count": null,
      "outputs": []
    },
    {
      "cell_type": "markdown",
      "source": [
        "### Evaluation"
      ],
      "metadata": {
        "id": "39NRc5Tm6dH9"
      }
    },
    {
      "cell_type": "code",
      "source": [
        "# quick evaluation on test set\n",
        "this_final_loss_, this_final_acc_ = model.evaluate(test_images, test_labels_one_hot_encoded)\n",
        "print('Test Result: Loss is '+str(this_final_loss_)+', and accuracy is '+str(this_final_acc_))"
      ],
      "metadata": {
        "id": "Wwf9NNPF6dIC"
      },
      "execution_count": null,
      "outputs": []
    },
    {
      "cell_type": "markdown",
      "source": [
        "## Visualize Performance"
      ],
      "metadata": {
        "id": "xIb2ZZKxGEHu"
      }
    },
    {
      "cell_type": "code",
      "source": [
        "plt.plot(history.history['loss'])\n",
        "plt.plot(history.history['val_loss'])\n",
        "plt.legend(['loss', 'val_loss'])\n",
        "plt.title('loss')"
      ],
      "metadata": {
        "id": "odz4GzkbGEHz"
      },
      "execution_count": null,
      "outputs": []
    },
    {
      "cell_type": "code",
      "source": [
        "# predict\n",
        "test_labels_one_hot_encoded_predicted = model.predict(test_images)\n",
        "test_labels_predicted = np.argmax(test_labels_one_hot_encoded_predicted, axis=1)\n",
        "print(test_labels.shape)\n",
        "print(test_labels_predicted.shape)"
      ],
      "metadata": {
        "id": "FNWWb7-gOP-i"
      },
      "execution_count": null,
      "outputs": []
    },
    {
      "cell_type": "code",
      "source": [
        "# confusion matrix\n",
        "conf_mat = metrics.confusion_matrix(y_true=test_labels, y_pred=test_labels_predicted)\n",
        "conf_mat"
      ],
      "metadata": {
        "id": "278ENobkOP-j"
      },
      "execution_count": null,
      "outputs": []
    },
    {
      "cell_type": "code",
      "source": [
        "# waht are the diagonals\n",
        "np.diagonal(conf_mat)"
      ],
      "metadata": {
        "id": "DZP-xO_kOP-j"
      },
      "execution_count": null,
      "outputs": []
    },
    {
      "cell_type": "code",
      "source": [
        "# sum of diagonal\n",
        "np.sum(np.diagonal(conf_mat))"
      ],
      "metadata": {
        "id": "mgl9jfKaOP-j"
      },
      "execution_count": null,
      "outputs": []
    },
    {
      "cell_type": "code",
      "source": [
        "# sum of the matrix\n",
        "np.sum(conf_mat)"
      ],
      "metadata": {
        "id": "G691BwcNOP-j"
      },
      "execution_count": null,
      "outputs": []
    },
    {
      "cell_type": "code",
      "source": [
        "# accuracy\n",
        "np.sum(np.diagonal(conf_mat))/np.sum(conf_mat)"
      ],
      "metadata": {
        "id": "miOhZQzhOP-j"
      },
      "execution_count": null,
      "outputs": []
    },
    {
      "cell_type": "code",
      "source": [
        "# quick way\n",
        "from sklearn.metrics import confusion_matrix, ConfusionMatrixDisplay"
      ],
      "metadata": {
        "id": "nIxoU1XvOP-j"
      },
      "execution_count": null,
      "outputs": []
    },
    {
      "cell_type": "code",
      "source": [
        "# plot\n",
        "cm = confusion_matrix(test_labels, test_labels_predicted, labels=np.arange(10))\n",
        "disp = ConfusionMatrixDisplay(confusion_matrix=cm, display_labels=np.arange(10))\n",
        "disp.plot()\n",
        "plt.title('test acc='+str(round(np.sum(np.diagonal(conf_mat))/np.sum(conf_mat),3)))\n",
        "plt.show()"
      ],
      "metadata": {
        "id": "iniM0DE_OP-j"
      },
      "execution_count": null,
      "outputs": []
    },
    {
      "cell_type": "markdown",
      "source": [
        "## Research Proposal\n",
        "\n",
        "Research proposal is a guideline of what you want to do with your project. You should start with a topic title and a punchline of your project.\n",
        "\n",
        "### Topic\n",
        "\n",
        "This project designs a deep Convolutional Neural Network (CNN) to classify images into different labels. The goal is to see whether advanced AI models such as deep CNN can recognize the patterns in the images.\n",
        "\n",
        "### Proposed Experiment\n",
        "\n",
        "This project starts with a baseline model. This is a simple neural network, also known as Artificial Neural Network (ANN). An ANN has dense layers and the layers are formed using a linear combination (these are the neurons in the dense layers) and an activation function.\n",
        "\n",
        "This project also investigates advanced models. This is a family of different Convolutional Neural Network (CNN). Models such as CNN are consist of convolutional layers. Give an example of a convolution operation.\n",
        "\n",
        "### Expected Results\n",
        "\n",
        "In a simple data such as MNIST Handwritten Digits, we expect baseline model to perform about 97% and advanced model to perform about 98%.\n",
        "\n",
        "For example, from the above experiments attempted, we can summarize the following table.\n",
        "\n",
        "| No. | Conv | Hidden | Performance |\n",
        "| --- | ---  | ---    | ---         |\n",
        "| 1   | 0    | [256, 128, 64] | 98% |\n",
        "| 2   | [32, 64] | [256, 128] | 99% |\n",
        "| ... | ...  | ...    | ...   |\n",
        "\n",
        "Can you detect a pattern here? If yes, how would you propose the next step?\n",
        "\n",
        "### Future Work\n",
        "\n",
        "This project will implement baseline model and advanced models on Chest X-ray image dataset. The project will build deep CNN model to help doctors to make diagnosis of lung cancer.\n",
        "\n",
        "In addition, optional work can be to investigate the explainability of the deep CNN models. CNN models, after tuning, can have high prediction performance. However, it requires additional work to help the doctors to explain how CNN work. This is the explainability side of the project that we can do if we have more time."
      ],
      "metadata": {
        "id": "dIG8zolUFkRl"
      }
    }
  ]
}