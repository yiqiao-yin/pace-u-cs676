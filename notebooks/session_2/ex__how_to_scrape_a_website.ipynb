{
  "cells": [
    {
      "cell_type": "code",
      "execution_count": 1,
      "metadata": {
        "id": "GuDJ-jBai3Nj"
      },
      "outputs": [],
      "source": [
        "import requests\n",
        "from bs4 import BeautifulSoup"
      ]
    },
    {
      "cell_type": "code",
      "execution_count": 2,
      "metadata": {
        "id": "xoqOML8vi4im"
      },
      "outputs": [],
      "source": [
        "def scrape_url_content(url: str) -> str:\n",
        "    \"\"\"\n",
        "    Scrapes the content of a given URL and returns it as a single string.\n",
        "\n",
        "    Args:\n",
        "        url (str): The URL of the webpage to scrape.\n",
        "\n",
        "    Returns:\n",
        "        str: The textual content of the webpage.\n",
        "    \"\"\"\n",
        "    headers = {\n",
        "        \"User-Agent\": (\n",
        "            \"Mozilla/5.0 (Windows NT 10.0; Win64; x64) AppleWebKit/537.36 \"\n",
        "            \"(KHTML, like Gecko) Chrome/91.0.4472.124 Safari/537.36\"\n",
        "        )\n",
        "    }\n",
        "\n",
        "    try:\n",
        "        # Send a GET request to the URL with headers\n",
        "        response = requests.get(url, headers=headers, timeout=10)\n",
        "        response.raise_for_status()  # Raise an HTTPError for bad responses (4xx and 5xx)\n",
        "\n",
        "        # Parse the HTML content using BeautifulSoup\n",
        "        soup = BeautifulSoup(response.text, 'html.parser')\n",
        "\n",
        "        # Extract text content from the webpage\n",
        "        content = soup.get_text(separator='\\\\n', strip=True)\n",
        "\n",
        "        return content\n",
        "\n",
        "    except requests.exceptions.RequestException as e:\n",
        "        return f\"An error occurred while fetching the URL: {e}\"\n"
      ]
    },
    {
      "cell_type": "code",
      "execution_count": null,
      "metadata": {
        "colab": {
          "base_uri": "https://localhost:8080/"
        },
        "id": "1b1I_Zsai6Qv",
        "outputId": "4c83ee95-56f8-4160-b4b6-504e72260426"
      },
      "outputs": [],
      "source": [
        "# Example usage\n",
        "url = \"https://www.forbes.com/sites/dereksaul/2025/01/28/deepseek-panic-live-updates-nvidia-stock-makes-history-again-with-260-billion-rebound/\"\n",
        "print(scrape_url_content(url))"
      ]
    },
    {
      "cell_type": "code",
      "execution_count": null,
      "metadata": {
        "colab": {
          "base_uri": "https://localhost:8080/"
        },
        "id": "dMZo2tswjwgC",
        "outputId": "448e7122-17f7-413c-a7fb-7dbbd5a8f90e"
      },
      "outputs": [],
      "source": [
        "# Example usage\n",
        "url = \"https://www.hopkinsmedicine.org/health/treatment-tests-and-therapies/back-spine-surgery\"\n",
        "print(scrape_url_content(url))"
      ]
    },
    {
      "cell_type": "code",
      "execution_count": null,
      "metadata": {
        "colab": {
          "base_uri": "https://localhost:8080/"
        },
        "id": "LyapiscsoBOk",
        "outputId": "eae5cc13-3930-4909-f290-78b8f58582e2"
      },
      "outputs": [],
      "source": [
        "# Example usage\n",
        "url = \"https://www.y-yin.io/\"\n",
        "print(scrape_url_content(url))"
      ]
    },
    {
      "cell_type": "code",
      "execution_count": null,
      "metadata": {
        "id": "IVrFE52FoE7R"
      },
      "outputs": [],
      "source": []
    }
  ],
  "metadata": {
    "colab": {
      "provenance": []
    },
    "kernelspec": {
      "display_name": "Python 3",
      "name": "python3"
    },
    "language_info": {
      "name": "python"
    }
  },
  "nbformat": 4,
  "nbformat_minor": 0
}
