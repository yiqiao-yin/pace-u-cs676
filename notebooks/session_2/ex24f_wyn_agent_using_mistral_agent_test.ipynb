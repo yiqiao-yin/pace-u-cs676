{
  "cells": [
    {
      "cell_type": "markdown",
      "metadata": {
        "id": "N1dLAzxRM5fK"
      },
      "source": [
        "# Main\n",
        "\n",
        "Package: [WYN-Agent](https://pypi.org/project/wyn-agent/)"
      ]
    },
    {
      "cell_type": "markdown",
      "metadata": {
        "id": "O43Lwa3wJBg5"
      },
      "source": [
        "## Get Started: Install"
      ]
    },
    {
      "cell_type": "code",
      "execution_count": null,
      "metadata": {
        "colab": {
          "base_uri": "https://localhost:8080/"
        },
        "id": "V-7ntihMHs-e",
        "outputId": "b889fd4f-dbfa-4659-8065-1c5c415bdc72"
      },
      "outputs": [],
      "source": [
        "! pip install wyn-agent"
      ]
    },
    {
      "cell_type": "markdown",
      "metadata": {
        "id": "jtP402j-JP8t"
      },
      "source": [
        "## Get Started: Import"
      ]
    },
    {
      "cell_type": "code",
      "execution_count": 2,
      "metadata": {
        "id": "FGStjer3IDNK"
      },
      "outputs": [],
      "source": [
        "from google.colab import userdata\n",
        "MISTRAL_API_KEY = userdata.get('MISTRAL_API_KEY')"
      ]
    },
    {
      "cell_type": "code",
      "execution_count": 3,
      "metadata": {
        "id": "caSy4uzqIc6a"
      },
      "outputs": [],
      "source": [
        "from wyn_agent.mistral_agent import ChatBot"
      ]
    },
    {
      "cell_type": "markdown",
      "metadata": {
        "id": "BPVgHwcjJEk-"
      },
      "source": [
        "## Run Bot"
      ]
    },
    {
      "cell_type": "code",
      "execution_count": null,
      "metadata": {
        "colab": {
          "base_uri": "https://localhost:8080/"
        },
        "id": "EhphWvIpHtyZ",
        "outputId": "3400cd3b-6260-4a57-96d1-c14547c58e99"
      },
      "outputs": [],
      "source": [
        "# @title Talk to JARVIS\n",
        "\n",
        "bot = ChatBot(\n",
        "    api_key=MISTRAL_API_KEY,\n",
        "    agent_id=\"ag:bfb4e4d9:20240809:coding-agent:b1d09feb\",\n",
        "    protocol=\"You are a code assistant.\"\n",
        ")\n",
        "\n",
        "bot.run_mistral_agent()"
      ]
    },
    {
      "cell_type": "code",
      "execution_count": null,
      "metadata": {
        "id": "rBvuWvauRLEE"
      },
      "outputs": [],
      "source": []
    }
  ],
  "metadata": {
    "accelerator": "GPU",
    "colab": {
      "collapsed_sections": [
        "O43Lwa3wJBg5",
        "jtP402j-JP8t"
      ],
      "gpuType": "T4",
      "machine_shape": "hm",
      "provenance": []
    },
    "kernelspec": {
      "display_name": "Python 3",
      "name": "python3"
    },
    "language_info": {
      "name": "python"
    }
  },
  "nbformat": 4,
  "nbformat_minor": 0
}
