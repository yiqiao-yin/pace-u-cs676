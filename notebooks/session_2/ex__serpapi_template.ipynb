{
  "cells": [
    {
      "cell_type": "code",
      "execution_count": null,
      "metadata": {
        "colab": {
          "base_uri": "https://localhost:8080/"
        },
        "id": "YCPD5mEdgUnp",
        "outputId": "896e3c07-6abd-4813-8daf-f955b0c288f7"
      },
      "outputs": [],
      "source": [
        "! pip install serpapi google-search-results"
      ]
    },
    {
      "cell_type": "code",
      "execution_count": 2,
      "metadata": {
        "id": "0BQGLdmzgPJ7"
      },
      "outputs": [],
      "source": [
        "from google.colab import userdata\n",
        "SERPAPI_API_KEY = userdata.get('SERPAPI_API_KEY')"
      ]
    },
    {
      "cell_type": "code",
      "execution_count": null,
      "metadata": {
        "colab": {
          "base_uri": "https://localhost:8080/"
        },
        "id": "UIUmGxqOgEWy",
        "outputId": "12dbf495-6625-4f23-eb81-9f4ac1db6ba6"
      },
      "outputs": [],
      "source": [
        "from serpapi import GoogleSearch\n",
        "from typing import List, Dict, Any\n",
        "\n",
        "def search_serpapi(query: str, api_key: str) -> List[Dict[str, Any]]:\n",
        "    \"\"\"\n",
        "    Search using SerpAPI for the given query and return the results.\n",
        "\n",
        "    :param query: The search query string.\n",
        "    :param api_key: Your SerpAPI key.\n",
        "    :return: A list of search results.\n",
        "    :raises Exception: For any errors during the request.\n",
        "    \"\"\"\n",
        "    try:\n",
        "        search = GoogleSearch({\n",
        "            \"q\": query,\n",
        "            \"location\": \"Austin, Texas, United States\",\n",
        "            \"api_key\": api_key\n",
        "        })\n",
        "        results = search.get_dict()\n",
        "        return results.get(\"organic_results\", [])\n",
        "    except Exception as e:\n",
        "        raise Exception(f\"An error occurred: {e}\")\n",
        "\n",
        "# Example usage:\n",
        "if __name__ == \"__main__\":\n",
        "    query = \"nvidia stock price\"\n",
        "    try:\n",
        "        results = search_serpapi(query, SERPAPI_API_KEY)\n",
        "        response = []\n",
        "        for result in results:\n",
        "            print(f\"Title: {result['title']}\")\n",
        "            print(f\"Link: {result['link']}\\n\")\n",
        "            response.append({\n",
        "                \"title\": result['title'],\n",
        "                \"link\": result['link']\n",
        "            })\n",
        "    except Exception as e:\n",
        "        print(f\"Failed to fetch data: {e}\")\n"
      ]
    },
    {
      "cell_type": "code",
      "execution_count": null,
      "metadata": {
        "colab": {
          "base_uri": "https://localhost:8080/"
        },
        "id": "fZHKZhljjCp3",
        "outputId": "385450b3-3ae6-4576-b56d-a0b58bbced89"
      },
      "outputs": [],
      "source": [
        "response"
      ]
    },
    {
      "cell_type": "code",
      "execution_count": 5,
      "metadata": {
        "id": "NK1jVmA6jEFE"
      },
      "outputs": [],
      "source": [
        "def convert_to_md_table(data):\n",
        "    md_table = \"| Title | Link |\\n| --- | --- |\\n\"\n",
        "    for item in data:\n",
        "        title = item['title']\n",
        "        link = item['link']\n",
        "        md_table += f\"| {title} | [Link]({link}) |\\n\"\n",
        "    return md_table\n",
        "\n",
        "md_string = convert_to_md_table(response)"
      ]
    },
    {
      "cell_type": "code",
      "execution_count": null,
      "metadata": {
        "colab": {
          "base_uri": "https://localhost:8080/",
          "height": 91
        },
        "id": "avqPa1eZjYGK",
        "outputId": "7cb68afc-a7c7-4d91-e37a-64cef989e882"
      },
      "outputs": [],
      "source": [
        "md_string"
      ]
    },
    {
      "cell_type": "code",
      "execution_count": null,
      "metadata": {
        "id": "EmAgwTTcs1c9"
      },
      "outputs": [],
      "source": [
        "from google.colab import userdata\n",
        "SERPAPI_API_KEY = userdata.get('SERPAPI_API_KEY')"
      ]
    },
    {
      "cell_type": "code",
      "execution_count": null,
      "metadata": {
        "id": "Lj2So5nXjYqh"
      },
      "outputs": [],
      "source": [
        "from serpapi import GoogleSearch\n",
        "\n",
        "params = {\n",
        "  \"api_key\": SERPAPI_API_KEY,\n",
        "  \"engine\": \"google_news\",\n",
        "  \"hl\": \"en\",\n",
        "  \"gl\": \"us\",\n",
        "  \"q\": \"AAPL\"\n",
        "}\n",
        "\n",
        "search = GoogleSearch(params)\n",
        "results = search.get_dict()"
      ]
    },
    {
      "cell_type": "code",
      "execution_count": null,
      "metadata": {
        "colab": {
          "base_uri": "https://localhost:8080/"
        },
        "id": "3o4CxhMHqulO",
        "outputId": "a3718a95-3d0b-4524-a2df-2715d2148e0e"
      },
      "outputs": [],
      "source": [
        "results[\"news_results\"][0]"
      ]
    },
    {
      "cell_type": "code",
      "execution_count": null,
      "metadata": {
        "colab": {
          "base_uri": "https://localhost:8080/"
        },
        "id": "VfYgLLmntQI-",
        "outputId": "51369e79-05eb-4a66-c627-b104b8b96a47"
      },
      "outputs": [],
      "source": [
        "results[\"news_results\"][0][\"stories\"]"
      ]
    },
    {
      "cell_type": "code",
      "execution_count": null,
      "metadata": {
        "colab": {
          "base_uri": "https://localhost:8080/"
        },
        "id": "XrmfheBPrB6I",
        "outputId": "0d5b692e-c10c-430f-9ebe-73469d81c7c8"
      },
      "outputs": [],
      "source": [
        "msg = \"AAPL: 29.9573, GOOG: 35.8514, JPM: 35.4447, MU: 31.8004\"\n",
        "list_of_tickers = [msg.split(\",\")[i].split(\":\")[0] for i in range(len(msg.split(\",\")))]\n",
        "list_of_tickers"
      ]
    },
    {
      "cell_type": "code",
      "execution_count": null,
      "metadata": {
        "id": "V4ohI6-WswJr"
      },
      "outputs": [],
      "source": [
        "all_news = []\n",
        "for ticker in list_of_tickers:\n",
        "    params = {\n",
        "        \"api_key\": SERPAPI_API_KEY,\n",
        "        \"engine\": \"google_news\",\n",
        "        \"hl\": \"en\",\n",
        "        \"gl\": \"us\",\n",
        "        \"q\": ticker\n",
        "    }\n",
        "\n",
        "    search = GoogleSearch(params)\n",
        "    results = search.get_dict()\n",
        "    all_news.append(results[\"news_results\"])"
      ]
    },
    {
      "cell_type": "code",
      "execution_count": null,
      "metadata": {
        "colab": {
          "base_uri": "https://localhost:8080/"
        },
        "id": "5N1vzTTCtgyX",
        "outputId": "73455a2c-ee73-4b92-9446-699de7515744"
      },
      "outputs": [],
      "source": [
        "all_news[0]"
      ]
    },
    {
      "cell_type": "code",
      "execution_count": null,
      "metadata": {
        "id": "gcTMPLqYtryV"
      },
      "outputs": [],
      "source": [
        "def generate_google_news(msg):\n",
        "    list_of_tickers = [msg.split(\",\")[i].split(\":\")[0] for i in range(len(msg.split(\",\")))]\n",
        "    all_news = []\n",
        "    for ticker in list_of_tickers:\n",
        "        params = {\n",
        "            \"api_key\": SERPAPI_API_KEY,\n",
        "            \"engine\": \"google_news\",\n",
        "            \"hl\": \"en\",\n",
        "            \"gl\": \"us\",\n",
        "            \"q\": ticker\n",
        "        }\n",
        "\n",
        "        search = GoogleSearch(params)\n",
        "        results = search.get_dict()\n",
        "        all_news.append(results[\"news_results\"])\n",
        "\n",
        "    return all_news"
      ]
    },
    {
      "cell_type": "code",
      "execution_count": null,
      "metadata": {
        "id": "Br-6qHbYupTI"
      },
      "outputs": [],
      "source": [
        "sample_output = generate_google_news(\"AAPL: 29.9573, GOOG: 35.8514, JPM: 35.4447, MU: 31.8004\")"
      ]
    },
    {
      "cell_type": "code",
      "execution_count": null,
      "metadata": {
        "colab": {
          "base_uri": "https://localhost:8080/"
        },
        "id": "GsMUmIcVuqKr",
        "outputId": "cf815784-861f-4a40-f22f-2d5fe9e3d44d"
      },
      "outputs": [],
      "source": [
        "sample_output[0][0]"
      ]
    },
    {
      "cell_type": "code",
      "execution_count": null,
      "metadata": {
        "id": "646wxbA9xITe"
      },
      "outputs": [],
      "source": [
        "import requests\n",
        "\n",
        "api_key = \"QMCD3imggKyOmR0Nb8uy62q2wKui9FKg0UYLohGcvLYwAzFuviQUOQ%3D%3D\"\n",
        "\n",
        "\n",
        "def invoke_search_api(\n",
        "    api_key: str,\n",
        "    query: str,\n",
        "    location: str = \"New York, New York, United States\",\n",
        "    num: int = 10,\n",
        "):\n",
        "    \"\"\"\n",
        "    Invoke the Vitanexus SearchBot API to retrieve search results based on a query and location.\n",
        "\n",
        "    Args:\n",
        "        api_key (str): The API key for authenticating the request.\n",
        "        query (str): The search query string.\n",
        "        location (str, optional): The location context for the search. Default is \"New York, New York, United States\".\n",
        "        num (int, optional): The number of search results to retrieve. Default is 10.\n",
        "\n",
        "    Returns:\n",
        "        Dict[str, any]: A dictionary containing the JSON response from the API.\n",
        "                        If an error occurs, returns a dictionary with error details.\n",
        "    \"\"\"\n",
        "\n",
        "    # Construct the API endpoint URL with the provided API key\n",
        "    url = f\"https://vitanexus-searchbot-v2.azurewebsites.net/api/http_trigger?code={api_key}\"\n",
        "\n",
        "    # Create the JSON payload for the POST request\n",
        "    payload = {\"query\": query, \"location\": location, \"num\": num}\n",
        "\n",
        "    try:\n",
        "        # Send a POST request to the API endpoint with the JSON payload\n",
        "        response = requests.post(url, json=payload)\n",
        "\n",
        "        # Raise an exception for any HTTP error responses\n",
        "        response.raise_for_status()\n",
        "\n",
        "        # Return the parsed JSON response if the request is successful\n",
        "        return response.json()\n",
        "\n",
        "    except requests.exceptions.RequestException as e:\n",
        "        # Handle any request exceptions and return an error message\n",
        "        print(f\"An error occurred: {e}\")\n",
        "        return {\"status\": \"error\", \"message\": str(e)}\n"
      ]
    },
    {
      "cell_type": "code",
      "execution_count": null,
      "metadata": {
        "colab": {
          "base_uri": "https://localhost:8080/"
        },
        "id": "S0ZddFeFsWEr",
        "outputId": "965d075e-892d-45d3-da2b-bcf3ee5fd862"
      },
      "outputs": [],
      "source": [
        "invoke_search_api(\n",
        "    api_key=api_key,\n",
        "    query=\"weather today in westchester\",\n",
        "    num=5\n",
        ")"
      ]
    },
    {
      "cell_type": "code",
      "execution_count": null,
      "metadata": {
        "id": "rLws2XIHsh7j"
      },
      "outputs": [],
      "source": []
    }
  ],
  "metadata": {
    "colab": {
      "provenance": []
    },
    "kernelspec": {
      "display_name": "Python 3",
      "name": "python3"
    },
    "language_info": {
      "name": "python"
    }
  },
  "nbformat": 4,
  "nbformat_minor": 0
}
