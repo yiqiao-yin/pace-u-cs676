{
  "cells": [
    {
      "cell_type": "code",
      "execution_count": 17,
      "metadata": {
        "id": "nhApgjcyEFAo"
      },
      "outputs": [],
      "source": [
        "import pandas as pd\n",
        "import requests\n",
        "from io import StringIO\n",
        "\n",
        "def download_and_combine_csv(urls: list) -> pd.DataFrame:\n",
        "    \"\"\"\n",
        "    Download CSV files from provided URLs and combine them row-wise.\n",
        "    It will combine files if they have the expected column names or just the correct number of columns.\n",
        "    Handles different encodings to avoid common decoding errors. Converts certain columns to integer form.\n",
        "\n",
        "    Args:\n",
        "    urls (list): List of strings containing the URLs of the CSV files.\n",
        "\n",
        "    Returns:\n",
        "    pd.DataFrame: A DataFrame containing the combined data from all matching CSV files.\n",
        "    \"\"\"\n",
        "    expected_columns = {'user_prompt', 'url_to_check', 'func_rating', 'custom_rating'}\n",
        "    combined_df = pd.DataFrame()\n",
        "\n",
        "    for url in urls:\n",
        "        try:\n",
        "            # Modify the GitHub URL to point to the raw version of the file\n",
        "            raw_url = url.replace('github.com', 'raw.githubusercontent.com').replace('/blob', '')\n",
        "\n",
        "            response = requests.get(raw_url)\n",
        "            if response.status_code == 200:\n",
        "                try:\n",
        "                    # Attempt to read with utf-8 encoding\n",
        "                    content = response.content.decode('utf-8')\n",
        "                except UnicodeDecodeError:\n",
        "                    # Attempt to read with latin1 encoding\n",
        "                    content = response.content.decode('latin1')\n",
        "\n",
        "                # Read the CSV file into a DataFrame\n",
        "                df = pd.read_csv(StringIO(content))\n",
        "\n",
        "                # Check if the columns match the expected columns or if there are at least 4 columns\n",
        "                if set(df.columns) == expected_columns:\n",
        "                    combined_df = pd.concat([combined_df, df], ignore_index=True)\n",
        "                elif len(df.columns) >= 4:\n",
        "                    # Assume the first 4 columns are the required ones and ignore the original column names\n",
        "                    df = df.iloc[:, :4]\n",
        "                    df.columns = ['user_prompt', 'url_to_check', 'func_rating', 'custom_rating']\n",
        "                    combined_df = pd.concat([combined_df, df], ignore_index=True)\n",
        "                else:\n",
        "                    print(f\"Skipping file with insufficient columns: {url}\")\n",
        "            else:\n",
        "                print(f\"Failed to download from {url}\")\n",
        "        except Exception as e:\n",
        "            print(f\"Error processing {url}: {str(e)}\")\n",
        "\n",
        "    # Ensure func_rating and custom_rating are integers\n",
        "    if not combined_df.empty:\n",
        "        combined_df['func_rating'] = combined_df['func_rating'].round().astype(int)\n",
        "        combined_df['custom_rating'] = combined_df['custom_rating'].round().astype(int)\n",
        "\n",
        "    return combined_df\n"
      ]
    },
    {
      "cell_type": "code",
      "execution_count": null,
      "metadata": {
        "id": "XwoOt1S0EGJa"
      },
      "outputs": [],
      "source": [
        "# Example usage:\n",
        "urls = [\n",
        "    \"https://github.com/vrutika-prajapati/Credibility-Score-for-Articles/blob/main/projects/deliverable%202/Url_validation.csv\",\n",
        "    \"https://github.com/Saikumar08-sk/URL-Validation/blob/main/Deliverable.csv\",\n",
        "    \"https://github.com/aditya19111/Project-1-Credibility-Score-for-Articles-Sources-References/blob/main/Deliverable_2/Deliverables_rating_comparison%20-%20Sheet1.csv\",\n",
        "    \"https://github.com/SAIKUMAR500/algorithums-for-data-science/blob/main/deliverable2/dataset(Sheet1).csv\",\n",
        "    \"https://github.com/drashti-sanghani/Credibility_score_articles/blob/main/Project/Deliverable2/user_ratings.csv\",\n",
        "    \"https://github.com/anchalrai101/CREDIBILITY-SCORE/blob/main/urltesting_scores.csv\",\n",
        "    \"https://github.com/AliSInamdar/CS676-Ali-Inamdar/blob/Project_1_Credibilty_Score/Deliverable_2/Deliverable_2.csv\",\n",
        "    \"https://github.com/bhavnaa22/Algorithms-For-Data-Science/blob/main/Deliverable%202/Deliverable2.csv\",\n",
        "    \"https://github.com/bhatthardik4/AlgorithmDS/blob/main/Deliverable_2/HardikBhattD2.csv\",\n",
        "    \"https://github.com/Rakeshkanche/Algorithms-for-Data-Science/blob/main/queries_urls_ratings.csv\",\n",
        "    \"https://github.com/kristinakim-code/Credibility-Check/blob/main/deliverable2.csv\",\n",
        "    \"https://github.com/bhavnaa22/Algorithms-For-Data-Science/blob/main/Deliverable%202/Deliverable2.csv\",\n",
        "    \"https://github.com/kamaldomandula/Algorithms-of-data-science-Project/blob/main/Project/project1/Deliverable2/deliverable.csv\",\n",
        "    \"https://github.com/ChinmayShetye26/Algo-for-DS-delivery2/blob/main/Sample.csv\",\n",
        "    \"https://github.com/krishnam229/Project1/blob/main/deliverable2/sample.csv\",\n",
        "    \"https://github.com/drona23/Deliverable2/blob/main/output.csv\",\n",
        "    \"https://github.com/JoshuaGottlieb/Chatbot-Credibility-Scorer/blob/main/src/deliverable-02/testing/sample.csv\"\n",
        "]"
      ]
    },
    {
      "cell_type": "code",
      "execution_count": null,
      "metadata": {
        "colab": {
          "base_uri": "https://localhost:8080/"
        },
        "id": "LZ0xgwCPEHXs",
        "outputId": "68ccfa52-3e63-4f7b-b31d-8f2d0d93e432"
      },
      "outputs": [],
      "source": [
        "result_df = download_and_combine_csv(urls)\n",
        "print(result_df)"
      ]
    },
    {
      "cell_type": "code",
      "execution_count": null,
      "metadata": {
        "colab": {
          "base_uri": "https://localhost:8080/",
          "height": 1924
        },
        "id": "prXlUFhgEssm",
        "outputId": "579f810f-ac95-489c-e545-48acb68beaee"
      },
      "outputs": [],
      "source": [
        "result_df"
      ]
    },
    {
      "cell_type": "code",
      "execution_count": 20,
      "metadata": {
        "id": "uPh-Oqb9ExK1"
      },
      "outputs": [],
      "source": []
    }
  ],
  "metadata": {
    "colab": {
      "provenance": []
    },
    "kernelspec": {
      "display_name": "Python 3",
      "name": "python3"
    },
    "language_info": {
      "name": "python"
    }
  },
  "nbformat": 4,
  "nbformat_minor": 0
}
